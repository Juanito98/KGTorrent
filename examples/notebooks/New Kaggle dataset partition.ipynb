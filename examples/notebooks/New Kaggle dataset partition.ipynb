{
 "cells": [
  {
   "cell_type": "markdown",
   "metadata": {},
   "source": [
    "# Create new (restricted) set of notebooks by experienced Kaggle users\n",
    "\n",
    "I downloaded ~60,000 notebooks by expert users. Then I decided to make selection rules more restrictive:\n",
    "\n",
    "- we consider an \"expert\" a user that have reached the \"expert\" tier in one of the categories of expertise since (at least) 6 months;\n",
    "- we select only notebooks that were created *after* their authors had become \"expert\" Kaggle users.\n",
    "\n",
    "This notebook takes as input the `.csv` file outputted by the download script and filters its rows by taking into account this new more restrictive rationale."
   ]
  },
  {
   "cell_type": "code",
   "execution_count": 1,
   "metadata": {},
   "outputs": [],
   "source": [
    "import pandas as pd"
   ]
  },
  {
   "cell_type": "code",
   "execution_count": 2,
   "metadata": {},
   "outputs": [
    {
     "data": {
      "text/plain": [
       "(11592, 2)"
      ]
     },
     "execution_count": 2,
     "metadata": {},
     "output_type": "execute_result"
    }
   ],
   "source": [
    "reduced_set = pd.read_csv('/Users/luigiquaranta/Developer/se4ai/notebookQualityAndReproducibility/KaggleTorrent/notebook_output/Notebooks by experts - full download URLs.csv')\n",
    "reduced_set.shape"
   ]
  },
  {
   "cell_type": "code",
   "execution_count": 3,
   "metadata": {},
   "outputs": [
    {
     "data": {
      "text/html": [
       "<div>\n",
       "<style scoped>\n",
       "    .dataframe tbody tr th:only-of-type {\n",
       "        vertical-align: middle;\n",
       "    }\n",
       "\n",
       "    .dataframe tbody tr th {\n",
       "        vertical-align: top;\n",
       "    }\n",
       "\n",
       "    .dataframe thead th {\n",
       "        text-align: right;\n",
       "    }\n",
       "</style>\n",
       "<table border=\"1\" class=\"dataframe\">\n",
       "  <thead>\n",
       "    <tr style=\"text-align: right;\">\n",
       "      <th></th>\n",
       "      <th>slug</th>\n",
       "      <th>url</th>\n",
       "    </tr>\n",
       "  </thead>\n",
       "  <tbody>\n",
       "    <tr>\n",
       "      <th>0</th>\n",
       "      <td>jeffmoser/render-test</td>\n",
       "      <td>https://www.kaggle.com/kernels/scriptcontent/2...</td>\n",
       "    </tr>\n",
       "    <tr>\n",
       "      <th>1</th>\n",
       "      <td>jeffmoser/asdfadsf</td>\n",
       "      <td>https://www.kaggle.com/kernels/scriptcontent/3...</td>\n",
       "    </tr>\n",
       "    <tr>\n",
       "      <th>2</th>\n",
       "      <td>jeffmoser/test-notebook-health</td>\n",
       "      <td>https://www.kaggle.com/kernels/scriptcontent/3...</td>\n",
       "    </tr>\n",
       "    <tr>\n",
       "      <th>3</th>\n",
       "      <td>jeffmoser/testing-notebooks</td>\n",
       "      <td>https://www.kaggle.com/kernels/scriptcontent/3...</td>\n",
       "    </tr>\n",
       "    <tr>\n",
       "      <th>4</th>\n",
       "      <td>jeffmoser/save-edit-test</td>\n",
       "      <td>https://www.kaggle.com/kernels/scriptcontent/3...</td>\n",
       "    </tr>\n",
       "  </tbody>\n",
       "</table>\n",
       "</div>"
      ],
      "text/plain": [
       "                             slug  \\\n",
       "0           jeffmoser/render-test   \n",
       "1              jeffmoser/asdfadsf   \n",
       "2  jeffmoser/test-notebook-health   \n",
       "3     jeffmoser/testing-notebooks   \n",
       "4        jeffmoser/save-edit-test   \n",
       "\n",
       "                                                 url  \n",
       "0  https://www.kaggle.com/kernels/scriptcontent/2...  \n",
       "1  https://www.kaggle.com/kernels/scriptcontent/3...  \n",
       "2  https://www.kaggle.com/kernels/scriptcontent/3...  \n",
       "3  https://www.kaggle.com/kernels/scriptcontent/3...  \n",
       "4  https://www.kaggle.com/kernels/scriptcontent/3...  "
      ]
     },
     "execution_count": 3,
     "metadata": {},
     "output_type": "execute_result"
    }
   ],
   "source": [
    "reduced_set.head()"
   ]
  },
  {
   "cell_type": "code",
   "execution_count": 4,
   "metadata": {},
   "outputs": [
    {
     "data": {
      "text/plain": [
       "(61199, 3)"
      ]
     },
     "execution_count": 4,
     "metadata": {},
     "output_type": "execute_result"
    }
   ],
   "source": [
    "complete_set = pd.read_csv('/Users/luigiquaranta/Developer/se4ai/notebookQualityAndReproducibility/KaggleTorrent/output_files/notebook_download_paths_1595069757.1767712.csv', sep=';')\n",
    "complete_set.shape"
   ]
  },
  {
   "cell_type": "code",
   "execution_count": 5,
   "metadata": {},
   "outputs": [
    {
     "data": {
      "text/html": [
       "<div>\n",
       "<style scoped>\n",
       "    .dataframe tbody tr th:only-of-type {\n",
       "        vertical-align: middle;\n",
       "    }\n",
       "\n",
       "    .dataframe tbody tr th {\n",
       "        vertical-align: top;\n",
       "    }\n",
       "\n",
       "    .dataframe thead th {\n",
       "        text-align: right;\n",
       "    }\n",
       "</style>\n",
       "<table border=\"1\" class=\"dataframe\">\n",
       "  <thead>\n",
       "    <tr style=\"text-align: right;\">\n",
       "      <th></th>\n",
       "      <th>slug</th>\n",
       "      <th>url</th>\n",
       "      <th>download_path</th>\n",
       "    </tr>\n",
       "  </thead>\n",
       "  <tbody>\n",
       "    <tr>\n",
       "      <th>0</th>\n",
       "      <td>jeffmoser/i-3-ipython</td>\n",
       "      <td>https://www.kaggle.com/kernels/scriptcontent/7...</td>\n",
       "      <td>/mnt/ext_hdd/local_repositories/kaggle_noteboo...</td>\n",
       "    </tr>\n",
       "    <tr>\n",
       "      <th>1</th>\n",
       "      <td>jeffmoser/notebook-a2042497432d665</td>\n",
       "      <td>https://www.kaggle.com/kernels/scriptcontent/8...</td>\n",
       "      <td>/mnt/ext_hdd/local_repositories/kaggle_noteboo...</td>\n",
       "    </tr>\n",
       "    <tr>\n",
       "      <th>2</th>\n",
       "      <td>jeffmoser/notebook-213497279134f5b</td>\n",
       "      <td>https://www.kaggle.com/kernels/scriptcontent/8...</td>\n",
       "      <td>/mnt/ext_hdd/local_repositories/kaggle_noteboo...</td>\n",
       "    </tr>\n",
       "    <tr>\n",
       "      <th>3</th>\n",
       "      <td>jeffmoser/testing-with-jamie</td>\n",
       "      <td>https://www.kaggle.com/kernels/scriptcontent/1...</td>\n",
       "      <td>/mnt/ext_hdd/local_repositories/kaggle_noteboo...</td>\n",
       "    </tr>\n",
       "    <tr>\n",
       "      <th>4</th>\n",
       "      <td>jeffmoser/notebook-ee6ac917bce6da7</td>\n",
       "      <td>https://www.kaggle.com/kernels/scriptcontent/1...</td>\n",
       "      <td>/mnt/ext_hdd/local_repositories/kaggle_noteboo...</td>\n",
       "    </tr>\n",
       "  </tbody>\n",
       "</table>\n",
       "</div>"
      ],
      "text/plain": [
       "                                 slug  \\\n",
       "0               jeffmoser/i-3-ipython   \n",
       "1  jeffmoser/notebook-a2042497432d665   \n",
       "2  jeffmoser/notebook-213497279134f5b   \n",
       "3        jeffmoser/testing-with-jamie   \n",
       "4  jeffmoser/notebook-ee6ac917bce6da7   \n",
       "\n",
       "                                                 url  \\\n",
       "0  https://www.kaggle.com/kernels/scriptcontent/7...   \n",
       "1  https://www.kaggle.com/kernels/scriptcontent/8...   \n",
       "2  https://www.kaggle.com/kernels/scriptcontent/8...   \n",
       "3  https://www.kaggle.com/kernels/scriptcontent/1...   \n",
       "4  https://www.kaggle.com/kernels/scriptcontent/1...   \n",
       "\n",
       "                                       download_path  \n",
       "0  /mnt/ext_hdd/local_repositories/kaggle_noteboo...  \n",
       "1  /mnt/ext_hdd/local_repositories/kaggle_noteboo...  \n",
       "2  /mnt/ext_hdd/local_repositories/kaggle_noteboo...  \n",
       "3  /mnt/ext_hdd/local_repositories/kaggle_noteboo...  \n",
       "4  /mnt/ext_hdd/local_repositories/kaggle_noteboo...  "
      ]
     },
     "execution_count": 5,
     "metadata": {},
     "output_type": "execute_result"
    }
   ],
   "source": [
    "complete_set.head()"
   ]
  },
  {
   "cell_type": "code",
   "execution_count": 6,
   "metadata": {},
   "outputs": [
    {
     "data": {
      "text/plain": [
       "11"
      ]
     },
     "execution_count": 6,
     "metadata": {},
     "output_type": "execute_result"
    }
   ],
   "source": [
    "complete_set[complete_set['download_path'].isnull()].shape[0]"
   ]
  },
  {
   "cell_type": "code",
   "execution_count": 7,
   "metadata": {},
   "outputs": [
    {
     "data": {
      "text/plain": [
       "(11592, 3)"
      ]
     },
     "execution_count": 7,
     "metadata": {},
     "output_type": "execute_result"
    }
   ],
   "source": [
    "merge = pd.merge(reduced_set, complete_set, how='left')\n",
    "merge.shape"
   ]
  },
  {
   "cell_type": "code",
   "execution_count": 8,
   "metadata": {},
   "outputs": [
    {
     "data": {
      "text/html": [
       "<div>\n",
       "<style scoped>\n",
       "    .dataframe tbody tr th:only-of-type {\n",
       "        vertical-align: middle;\n",
       "    }\n",
       "\n",
       "    .dataframe tbody tr th {\n",
       "        vertical-align: top;\n",
       "    }\n",
       "\n",
       "    .dataframe thead th {\n",
       "        text-align: right;\n",
       "    }\n",
       "</style>\n",
       "<table border=\"1\" class=\"dataframe\">\n",
       "  <thead>\n",
       "    <tr style=\"text-align: right;\">\n",
       "      <th></th>\n",
       "      <th>slug</th>\n",
       "      <th>url</th>\n",
       "      <th>download_path</th>\n",
       "    </tr>\n",
       "  </thead>\n",
       "  <tbody>\n",
       "    <tr>\n",
       "      <th>0</th>\n",
       "      <td>jeffmoser/render-test</td>\n",
       "      <td>https://www.kaggle.com/kernels/scriptcontent/2...</td>\n",
       "      <td>/mnt/ext_hdd/local_repositories/kaggle_noteboo...</td>\n",
       "    </tr>\n",
       "    <tr>\n",
       "      <th>1</th>\n",
       "      <td>jeffmoser/asdfadsf</td>\n",
       "      <td>https://www.kaggle.com/kernels/scriptcontent/3...</td>\n",
       "      <td>/mnt/ext_hdd/local_repositories/kaggle_noteboo...</td>\n",
       "    </tr>\n",
       "    <tr>\n",
       "      <th>2</th>\n",
       "      <td>jeffmoser/test-notebook-health</td>\n",
       "      <td>https://www.kaggle.com/kernels/scriptcontent/3...</td>\n",
       "      <td>/mnt/ext_hdd/local_repositories/kaggle_noteboo...</td>\n",
       "    </tr>\n",
       "    <tr>\n",
       "      <th>3</th>\n",
       "      <td>jeffmoser/testing-notebooks</td>\n",
       "      <td>https://www.kaggle.com/kernels/scriptcontent/3...</td>\n",
       "      <td>/mnt/ext_hdd/local_repositories/kaggle_noteboo...</td>\n",
       "    </tr>\n",
       "    <tr>\n",
       "      <th>4</th>\n",
       "      <td>jeffmoser/save-edit-test</td>\n",
       "      <td>https://www.kaggle.com/kernels/scriptcontent/3...</td>\n",
       "      <td>/mnt/ext_hdd/local_repositories/kaggle_noteboo...</td>\n",
       "    </tr>\n",
       "  </tbody>\n",
       "</table>\n",
       "</div>"
      ],
      "text/plain": [
       "                             slug  \\\n",
       "0           jeffmoser/render-test   \n",
       "1              jeffmoser/asdfadsf   \n",
       "2  jeffmoser/test-notebook-health   \n",
       "3     jeffmoser/testing-notebooks   \n",
       "4        jeffmoser/save-edit-test   \n",
       "\n",
       "                                                 url  \\\n",
       "0  https://www.kaggle.com/kernels/scriptcontent/2...   \n",
       "1  https://www.kaggle.com/kernels/scriptcontent/3...   \n",
       "2  https://www.kaggle.com/kernels/scriptcontent/3...   \n",
       "3  https://www.kaggle.com/kernels/scriptcontent/3...   \n",
       "4  https://www.kaggle.com/kernels/scriptcontent/3...   \n",
       "\n",
       "                                       download_path  \n",
       "0  /mnt/ext_hdd/local_repositories/kaggle_noteboo...  \n",
       "1  /mnt/ext_hdd/local_repositories/kaggle_noteboo...  \n",
       "2  /mnt/ext_hdd/local_repositories/kaggle_noteboo...  \n",
       "3  /mnt/ext_hdd/local_repositories/kaggle_noteboo...  \n",
       "4  /mnt/ext_hdd/local_repositories/kaggle_noteboo...  "
      ]
     },
     "execution_count": 8,
     "metadata": {},
     "output_type": "execute_result"
    }
   ],
   "source": [
    "merge.head()"
   ]
  },
  {
   "cell_type": "code",
   "execution_count": 9,
   "metadata": {},
   "outputs": [
    {
     "data": {
      "text/plain": [
       "True"
      ]
     },
     "execution_count": 9,
     "metadata": {},
     "output_type": "execute_result"
    }
   ],
   "source": [
    "merge[merge['download_path'].isnull()].empty"
   ]
  },
  {
   "cell_type": "markdown",
   "metadata": {},
   "source": [
    "Output restricted list"
   ]
  },
  {
   "cell_type": "raw",
   "metadata": {},
   "source": [
    "merge.to_csv('./output_files/notebook_download_paths_1595069757.1767712_RESTRICTED.csv', sep=';', index=False)"
   ]
  },
  {
   "cell_type": "markdown",
   "metadata": {},
   "source": [
    "Output path list"
   ]
  },
  {
   "cell_type": "code",
   "execution_count": 10,
   "metadata": {},
   "outputs": [
    {
     "data": {
      "text/plain": [
       "Index(['slug', 'url', 'download_path'], dtype='object')"
      ]
     },
     "execution_count": 10,
     "metadata": {},
     "output_type": "execute_result"
    }
   ],
   "source": [
    "merge.columns"
   ]
  },
  {
   "cell_type": "raw",
   "metadata": {},
   "source": [
    "merge[['download_path']].to_csv('./output_files/download_paths_1595069757.1767712_RESTRICTED', index=False, header=False)"
   ]
  },
  {
   "cell_type": "markdown",
   "metadata": {},
   "source": [
    "# Beginners notebooks that have been already downloaded"
   ]
  },
  {
   "cell_type": "code",
   "execution_count": 11,
   "metadata": {},
   "outputs": [
    {
     "data": {
      "text/plain": [
       "(49601, 3)"
      ]
     },
     "execution_count": 11,
     "metadata": {},
     "output_type": "execute_result"
    }
   ],
   "source": [
    "downloaded_beginners = complete_set[~complete_set['slug'].isin(merge['slug'])]\n",
    "downloaded_beginners.shape"
   ]
  },
  {
   "cell_type": "code",
   "execution_count": 12,
   "metadata": {},
   "outputs": [
    {
     "data": {
      "text/html": [
       "<div>\n",
       "<style scoped>\n",
       "    .dataframe tbody tr th:only-of-type {\n",
       "        vertical-align: middle;\n",
       "    }\n",
       "\n",
       "    .dataframe tbody tr th {\n",
       "        vertical-align: top;\n",
       "    }\n",
       "\n",
       "    .dataframe thead th {\n",
       "        text-align: right;\n",
       "    }\n",
       "</style>\n",
       "<table border=\"1\" class=\"dataframe\">\n",
       "  <thead>\n",
       "    <tr style=\"text-align: right;\">\n",
       "      <th></th>\n",
       "      <th>slug</th>\n",
       "      <th>url</th>\n",
       "      <th>download_path</th>\n",
       "    </tr>\n",
       "  </thead>\n",
       "  <tbody>\n",
       "    <tr>\n",
       "      <th>0</th>\n",
       "      <td>jeffmoser/i-3-ipython</td>\n",
       "      <td>https://www.kaggle.com/kernels/scriptcontent/7...</td>\n",
       "      <td>/mnt/ext_hdd/local_repositories/kaggle_noteboo...</td>\n",
       "    </tr>\n",
       "    <tr>\n",
       "      <th>1</th>\n",
       "      <td>jeffmoser/notebook-a2042497432d665</td>\n",
       "      <td>https://www.kaggle.com/kernels/scriptcontent/8...</td>\n",
       "      <td>/mnt/ext_hdd/local_repositories/kaggle_noteboo...</td>\n",
       "    </tr>\n",
       "    <tr>\n",
       "      <th>2</th>\n",
       "      <td>jeffmoser/notebook-213497279134f5b</td>\n",
       "      <td>https://www.kaggle.com/kernels/scriptcontent/8...</td>\n",
       "      <td>/mnt/ext_hdd/local_repositories/kaggle_noteboo...</td>\n",
       "    </tr>\n",
       "    <tr>\n",
       "      <th>3</th>\n",
       "      <td>jeffmoser/testing-with-jamie</td>\n",
       "      <td>https://www.kaggle.com/kernels/scriptcontent/1...</td>\n",
       "      <td>/mnt/ext_hdd/local_repositories/kaggle_noteboo...</td>\n",
       "    </tr>\n",
       "    <tr>\n",
       "      <th>4</th>\n",
       "      <td>jeffmoser/notebook-ee6ac917bce6da7</td>\n",
       "      <td>https://www.kaggle.com/kernels/scriptcontent/1...</td>\n",
       "      <td>/mnt/ext_hdd/local_repositories/kaggle_noteboo...</td>\n",
       "    </tr>\n",
       "  </tbody>\n",
       "</table>\n",
       "</div>"
      ],
      "text/plain": [
       "                                 slug  \\\n",
       "0               jeffmoser/i-3-ipython   \n",
       "1  jeffmoser/notebook-a2042497432d665   \n",
       "2  jeffmoser/notebook-213497279134f5b   \n",
       "3        jeffmoser/testing-with-jamie   \n",
       "4  jeffmoser/notebook-ee6ac917bce6da7   \n",
       "\n",
       "                                                 url  \\\n",
       "0  https://www.kaggle.com/kernels/scriptcontent/7...   \n",
       "1  https://www.kaggle.com/kernels/scriptcontent/8...   \n",
       "2  https://www.kaggle.com/kernels/scriptcontent/8...   \n",
       "3  https://www.kaggle.com/kernels/scriptcontent/1...   \n",
       "4  https://www.kaggle.com/kernels/scriptcontent/1...   \n",
       "\n",
       "                                       download_path  \n",
       "0  /mnt/ext_hdd/local_repositories/kaggle_noteboo...  \n",
       "1  /mnt/ext_hdd/local_repositories/kaggle_noteboo...  \n",
       "2  /mnt/ext_hdd/local_repositories/kaggle_noteboo...  \n",
       "3  /mnt/ext_hdd/local_repositories/kaggle_noteboo...  \n",
       "4  /mnt/ext_hdd/local_repositories/kaggle_noteboo...  "
      ]
     },
     "execution_count": 12,
     "metadata": {},
     "output_type": "execute_result"
    }
   ],
   "source": [
    "downloaded_beginners.head()"
   ]
  },
  {
   "cell_type": "code",
   "execution_count": 13,
   "metadata": {},
   "outputs": [
    {
     "data": {
      "text/plain": [
       "(11, 3)"
      ]
     },
     "execution_count": 13,
     "metadata": {},
     "output_type": "execute_result"
    }
   ],
   "source": [
    "downloaded_beginners[downloaded_beginners['download_path'].isnull()].shape"
   ]
  },
  {
   "cell_type": "code",
   "execution_count": 14,
   "metadata": {},
   "outputs": [
    {
     "data": {
      "text/plain": [
       "(49590, 3)"
      ]
     },
     "execution_count": 14,
     "metadata": {},
     "output_type": "execute_result"
    }
   ],
   "source": [
    "downloaded_beginners_cleaned = downloaded_beginners.dropna()\n",
    "downloaded_beginners_cleaned.shape"
   ]
  },
  {
   "cell_type": "code",
   "execution_count": 15,
   "metadata": {},
   "outputs": [
    {
     "data": {
      "text/plain": [
       "0"
      ]
     },
     "execution_count": 15,
     "metadata": {},
     "output_type": "execute_result"
    }
   ],
   "source": [
    "downloaded_beginners_cleaned[downloaded_beginners_cleaned['download_path'].isnull()].shape[0]"
   ]
  },
  {
   "cell_type": "code",
   "execution_count": 16,
   "metadata": {},
   "outputs": [],
   "source": [
    "downloaded_beginners_cleaned[['download_path']].to_csv('./output_files/download_paths_beginners_restricted.csv', index=False, header=False)"
   ]
  }
 ],
 "metadata": {
  "kernelspec": {
   "display_name": "Python 3",
   "language": "python",
   "name": "python3"
  },
  "language_info": {
   "codemirror_mode": {
    "name": "ipython",
    "version": 3
   },
   "file_extension": ".py",
   "mimetype": "text/x-python",
   "name": "python",
   "nbconvert_exporter": "python",
   "pygments_lexer": "ipython3",
   "version": "3.7.6"
  }
 },
 "nbformat": 4,
 "nbformat_minor": 4
}