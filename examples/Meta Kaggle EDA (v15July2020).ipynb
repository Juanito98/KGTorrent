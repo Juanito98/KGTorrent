{
 "cells": [
  {
   "cell_type": "markdown",
   "metadata": {},
   "source": [
    "# Meta Kaggle EDA"
   ]
  },
  {
   "cell_type": "markdown",
   "metadata": {},
   "source": [
    "This notebook contains Exploratory Data Analysis (EDA) to understand the content of the Meta Kaggle dataset (in its 15 July 2020 version).\n",
    "\n",
    "The output of this preliminary analyisis is a `.csv` file with download URLs for Kaggle notebooks divided by their authors' expertise level."
   ]
  },
  {
   "cell_type": "markdown",
   "metadata": {},
   "source": [
    "**Import statements**"
   ]
  },
  {
   "cell_type": "code",
   "execution_count": 22,
   "metadata": {
    "_cell_guid": "b1076dfc-b9ad-4769-8c92-a6c4dae69d19",
    "_uuid": "8f2839f25d086af736a60e9eeb907d3b93b6e0e5"
   },
   "outputs": [],
   "source": [
    "import os\n",
    "import numpy as np\n",
    "import pandas as pd\n",
    "from datetime import datetime\n",
    "from dateutil.relativedelta import relativedelta\n",
    "\n",
    "import matplotlib.pyplot as plt\n",
    "import seaborn as sns\n",
    "sns.set(style=\"darkgrid\")\n",
    "\n",
    "from IPython.display import Image"
   ]
  },
  {
   "cell_type": "markdown",
   "metadata": {},
   "source": [
    "**Global variables**"
   ]
  },
  {
   "cell_type": "code",
   "execution_count": 2,
   "metadata": {
    "_cell_guid": "b1076dfc-b9ad-4769-8c92-a6c4dae69d19",
    "_uuid": "8f2839f25d086af736a60e9eeb907d3b93b6e0e5"
   },
   "outputs": [],
   "source": [
    "DATASET_PATH = '../Kaggle data/MetaKaggle20200715'"
   ]
  },
  {
   "cell_type": "markdown",
   "metadata": {},
   "source": [
    "## Utility functions"
   ]
  },
  {
   "cell_type": "code",
   "execution_count": 3,
   "metadata": {},
   "outputs": [],
   "source": [
    "def summarize_cleaning_step(current_df_name, current_df, previous_df, original_df):\n",
    "    \"\"\"\n",
    "    Prints the number of items after the current cleaning step and\n",
    "    the percentages of items saved by the cleaning step with respect to\n",
    "    the dataframe before its application and the original dataset.\n",
    "    \"\"\"\n",
    "    current_df_len = current_df.shape[0]\n",
    "    print('Number of {}: {:,d}'.format(current_df_name, current_df_len))\n",
    "    \n",
    "    number_of_removed_kernels = previous_df.shape[0] - current_df_len\n",
    "    print('Number of kernels removed from the previous cleaning step: {:,d}'.format(number_of_removed_kernels))\n",
    "\n",
    "    percentage_over_cleaned = current_df_len * 100 / previous_df.shape[0] \n",
    "    print('Percentage over the cleaned set: {:.2f}%'.format(percentage_over_cleaned))\n",
    "\n",
    "    percentage_over_original = current_df_len * 100 / original_df.shape[0] \n",
    "    print('Percentage over the original set: {:.2f}%'.format(percentage_over_original))"
   ]
  },
  {
   "cell_type": "markdown",
   "metadata": {},
   "source": [
    "## Data import"
   ]
  },
  {
   "cell_type": "code",
   "execution_count": 4,
   "metadata": {},
   "outputs": [
    {
     "name": "stdout",
     "output_type": "stream",
     "text": [
      "CPU times: user 2min 11s, sys: 904 ms, total: 2min 12s\n",
      "Wall time: 2min 16s\n",
      "CPU times: user 7min 38s, sys: 3.06 s, total: 7min 41s\n",
      "Wall time: 7min 45s\n",
      "CPU times: user 3 ms, sys: 1.58 ms, total: 4.58 ms\n",
      "Wall time: 14.4 ms\n",
      "CPU times: user 8min 32s, sys: 3.87 s, total: 8min 36s\n",
      "Wall time: 8min 54s\n",
      "CPU times: user 17min 15s, sys: 8.5 s, total: 17min 23s\n",
      "Wall time: 17min 52s\n",
      "CPU times: user 35min 38s, sys: 16.5 s, total: 35min 54s\n",
      "Wall time: 36min 49s\n"
     ]
    }
   ],
   "source": [
    "%%time\n",
    "\n",
    "# KERNELS\n",
    "dates_to_be_parsed = [\n",
    "    'CreationDate',\n",
    "    'EvaluationDate',\n",
    "    'MadePublicDate',\n",
    "    'MedalAwardDate'\n",
    "]\n",
    "%time kernels = pd.read_csv(os.path.join(DATASET_PATH, 'Kernels.csv'), parse_dates=dates_to_be_parsed)\n",
    "\n",
    "# KERNEL VERSIONS\n",
    "%time kernelVersions = pd.read_csv(os.path.join(DATASET_PATH, 'KernelVersions.csv'), parse_dates=['CreationDate'])\n",
    "kernelVersions = kernelVersions[[\n",
    "    'Id',\n",
    "    'ScriptId',\n",
    "    'ScriptLanguageId',\n",
    "    'AuthorUserId',  # Is the author consistent with the source script?\n",
    "    'CreationDate',  # How often the creation date is different from the source script's one?\n",
    "    'VersionNumber',\n",
    "    'TotalLines',  # Might this be a threshold? What's the distribution?\n",
    "    'TotalVotes'  # How is this variable related to the source script's correspondent?\n",
    "]]\n",
    "\n",
    "# KERNEL LANGUAGES\n",
    "%time kernelLanguages = pd.read_csv(os.path.join(DATASET_PATH, 'KernelLanguages.csv'))\n",
    "\n",
    "# USERS\n",
    "%time users = pd.read_csv(os.path.join(DATASET_PATH, 'Users.csv'), parse_dates=['RegisterDate'])\n",
    "\n",
    "# USER ACHIEVEMENTS\n",
    "dates_to_be_parsed = [\n",
    "    'TierAchievementDate',\n",
    "]\n",
    "%time userAchievements = pd.read_csv(os.path.join(DATASET_PATH, 'UserAchievements.csv'), parse_dates=dates_to_be_parsed)"
   ]
  },
  {
   "cell_type": "markdown",
   "metadata": {},
   "source": [
    "## Filter \"Python Jupyter Notebooks\""
   ]
  },
  {
   "cell_type": "markdown",
   "metadata": {},
   "source": [
    "I want to filter Kaggle kernels in order to select only Python Jupyter Notebooks.\n",
    "\n",
    "To begin, I need to join the tables that carry useful information for this first filtering step.\n",
    "\n",
    "Therefore I join `Kernels.csv` with `KernelVersions.csv`"
   ]
  },
  {
   "cell_type": "code",
   "execution_count": 5,
   "metadata": {},
   "outputs": [
    {
     "name": "stdout",
     "output_type": "stream",
     "text": [
      "Number of kernels with current version info: 332,143\n",
      "Number of kernels removed from the previous cleaning step: 43,049\n",
      "Percentage over the cleaned set: 88.53%\n",
      "Percentage over the original set: 88.53%\n"
     ]
    }
   ],
   "source": [
    "kernels_currentVersion = pd.merge(\n",
    "    kernels, kernelVersions,\n",
    "    left_on='CurrentKernelVersionId', right_on='Id',\n",
    "    suffixes=('', '_currentVersion'))\n",
    "\n",
    "summarize_cleaning_step('kernels with current version info', kernels_currentVersion, kernels, kernels)"
   ]
  },
  {
   "cell_type": "markdown",
   "metadata": {},
   "source": [
    "And then i join the result with `KernelLanguages.csv`."
   ]
  },
  {
   "cell_type": "code",
   "execution_count": 6,
   "metadata": {},
   "outputs": [
    {
     "name": "stdout",
     "output_type": "stream",
     "text": [
      "Number of kernels with language info: 331,408\n",
      "Number of kernels removed from the previous cleaning step: 735\n",
      "Percentage over the cleaned set: 99.78%\n",
      "Percentage over the original set: 88.33%\n"
     ]
    }
   ],
   "source": [
    "kernel_currentVersion_language = pd.merge(\n",
    "    kernels_currentVersion, kernelLanguages,\n",
    "    left_on='ScriptLanguageId', right_on='Id',\n",
    "    suffixes=('', '_language'))\n",
    "\n",
    "summarize_cleaning_step('kernels with language info', kernel_currentVersion_language, kernels_currentVersion, kernels)"
   ]
  },
  {
   "cell_type": "markdown",
   "metadata": {},
   "source": [
    "### Kernel Languages"
   ]
  },
  {
   "cell_type": "markdown",
   "metadata": {},
   "source": [
    "So far, I have filtered out kernels without info about their current version and language. Now I can give a closer look at kernel languages.\n",
    "\n",
    "Each *kernel version* is associated with one of these *kernel languages*."
   ]
  },
  {
   "cell_type": "code",
   "execution_count": 7,
   "metadata": {},
   "outputs": [
    {
     "data": {
      "text/html": [
       "<div>\n",
       "<style scoped>\n",
       "    .dataframe tbody tr th:only-of-type {\n",
       "        vertical-align: middle;\n",
       "    }\n",
       "\n",
       "    .dataframe tbody tr th {\n",
       "        vertical-align: top;\n",
       "    }\n",
       "\n",
       "    .dataframe thead th {\n",
       "        text-align: right;\n",
       "    }\n",
       "</style>\n",
       "<table border=\"1\" class=\"dataframe\">\n",
       "  <thead>\n",
       "    <tr style=\"text-align: right;\">\n",
       "      <th></th>\n",
       "      <th>Id</th>\n",
       "      <th>Name</th>\n",
       "      <th>DisplayName</th>\n",
       "      <th>IsNotebook</th>\n",
       "    </tr>\n",
       "  </thead>\n",
       "  <tbody>\n",
       "    <tr>\n",
       "      <th>0</th>\n",
       "      <td>1</td>\n",
       "      <td>R</td>\n",
       "      <td>R</td>\n",
       "      <td>False</td>\n",
       "    </tr>\n",
       "    <tr>\n",
       "      <th>1</th>\n",
       "      <td>2</td>\n",
       "      <td>Python</td>\n",
       "      <td>Python</td>\n",
       "      <td>False</td>\n",
       "    </tr>\n",
       "    <tr>\n",
       "      <th>2</th>\n",
       "      <td>5</td>\n",
       "      <td>RMarkdown</td>\n",
       "      <td>R</td>\n",
       "      <td>False</td>\n",
       "    </tr>\n",
       "    <tr>\n",
       "      <th>3</th>\n",
       "      <td>8</td>\n",
       "      <td>IPython Notebook</td>\n",
       "      <td>Python</td>\n",
       "      <td>True</td>\n",
       "    </tr>\n",
       "    <tr>\n",
       "      <th>4</th>\n",
       "      <td>9</td>\n",
       "      <td>IPython Notebook HTML</td>\n",
       "      <td>Python</td>\n",
       "      <td>False</td>\n",
       "    </tr>\n",
       "    <tr>\n",
       "      <th>5</th>\n",
       "      <td>12</td>\n",
       "      <td>R Notebook HTML</td>\n",
       "      <td>R</td>\n",
       "      <td>False</td>\n",
       "    </tr>\n",
       "    <tr>\n",
       "      <th>6</th>\n",
       "      <td>13</td>\n",
       "      <td>R Notebook</td>\n",
       "      <td>R</td>\n",
       "      <td>True</td>\n",
       "    </tr>\n",
       "    <tr>\n",
       "      <th>7</th>\n",
       "      <td>14</td>\n",
       "      <td>Python Script - Interactive</td>\n",
       "      <td>Python</td>\n",
       "      <td>True</td>\n",
       "    </tr>\n",
       "    <tr>\n",
       "      <th>8</th>\n",
       "      <td>15</td>\n",
       "      <td>R Script - Interactive</td>\n",
       "      <td>R</td>\n",
       "      <td>True</td>\n",
       "    </tr>\n",
       "    <tr>\n",
       "      <th>9</th>\n",
       "      <td>16</td>\n",
       "      <td>RMarkdown - Interactive</td>\n",
       "      <td>R</td>\n",
       "      <td>True</td>\n",
       "    </tr>\n",
       "  </tbody>\n",
       "</table>\n",
       "</div>"
      ],
      "text/plain": [
       "   Id                         Name DisplayName  IsNotebook\n",
       "0   1                            R           R       False\n",
       "1   2                       Python      Python       False\n",
       "2   5                    RMarkdown           R       False\n",
       "3   8             IPython Notebook      Python        True\n",
       "4   9        IPython Notebook HTML      Python       False\n",
       "5  12              R Notebook HTML           R       False\n",
       "6  13                   R Notebook           R        True\n",
       "7  14  Python Script - Interactive      Python        True\n",
       "8  15       R Script - Interactive           R        True\n",
       "9  16      RMarkdown - Interactive           R        True"
      ]
     },
     "execution_count": 7,
     "metadata": {},
     "output_type": "execute_result"
    }
   ],
   "source": [
    "kernelLanguages"
   ]
  },
  {
   "cell_type": "markdown",
   "metadata": {},
   "source": [
    "I want to focus on Python kernels, so I filter the table accordingly."
   ]
  },
  {
   "cell_type": "code",
   "execution_count": 8,
   "metadata": {},
   "outputs": [
    {
     "data": {
      "text/html": [
       "<div>\n",
       "<style scoped>\n",
       "    .dataframe tbody tr th:only-of-type {\n",
       "        vertical-align: middle;\n",
       "    }\n",
       "\n",
       "    .dataframe tbody tr th {\n",
       "        vertical-align: top;\n",
       "    }\n",
       "\n",
       "    .dataframe thead th {\n",
       "        text-align: right;\n",
       "    }\n",
       "</style>\n",
       "<table border=\"1\" class=\"dataframe\">\n",
       "  <thead>\n",
       "    <tr style=\"text-align: right;\">\n",
       "      <th></th>\n",
       "      <th>Id</th>\n",
       "      <th>Name</th>\n",
       "      <th>DisplayName</th>\n",
       "      <th>IsNotebook</th>\n",
       "    </tr>\n",
       "  </thead>\n",
       "  <tbody>\n",
       "    <tr>\n",
       "      <th>1</th>\n",
       "      <td>2</td>\n",
       "      <td>Python</td>\n",
       "      <td>Python</td>\n",
       "      <td>False</td>\n",
       "    </tr>\n",
       "    <tr>\n",
       "      <th>3</th>\n",
       "      <td>8</td>\n",
       "      <td>IPython Notebook</td>\n",
       "      <td>Python</td>\n",
       "      <td>True</td>\n",
       "    </tr>\n",
       "    <tr>\n",
       "      <th>4</th>\n",
       "      <td>9</td>\n",
       "      <td>IPython Notebook HTML</td>\n",
       "      <td>Python</td>\n",
       "      <td>False</td>\n",
       "    </tr>\n",
       "    <tr>\n",
       "      <th>7</th>\n",
       "      <td>14</td>\n",
       "      <td>Python Script - Interactive</td>\n",
       "      <td>Python</td>\n",
       "      <td>True</td>\n",
       "    </tr>\n",
       "  </tbody>\n",
       "</table>\n",
       "</div>"
      ],
      "text/plain": [
       "   Id                         Name DisplayName  IsNotebook\n",
       "1   2                       Python      Python       False\n",
       "3   8             IPython Notebook      Python        True\n",
       "4   9        IPython Notebook HTML      Python       False\n",
       "7  14  Python Script - Interactive      Python        True"
      ]
     },
     "execution_count": 8,
     "metadata": {},
     "output_type": "execute_result"
    }
   ],
   "source": [
    "kernelLanguages[kernelLanguages['DisplayName']=='Python']"
   ]
  },
  {
   "cell_type": "markdown",
   "metadata": {},
   "source": [
    "To understand the differences between these types of Python kernels on Kaggle, I need to manually inspect a little sample for each of them; I need to retrieve them by their links.\n",
    "\n",
    "Each kernel link on Kaggle is formed with the *author's username* and the kernel's *current slug*."
   ]
  },
  {
   "cell_type": "markdown",
   "metadata": {},
   "source": [
    "#### Should I consider the **author of the kernel** or the **author of the kernel version**?"
   ]
  },
  {
   "cell_type": "markdown",
   "metadata": {},
   "source": [
    "What's the correct meaning of kernel \"author\" in Kaggle?\n",
    "\n",
    "Is there any difference between a kernel's author and one of its versions author?"
   ]
  },
  {
   "cell_type": "code",
   "execution_count": 9,
   "metadata": {},
   "outputs": [
    {
     "data": {
      "text/plain": [
       "1126"
      ]
     },
     "execution_count": 9,
     "metadata": {},
     "output_type": "execute_result"
    }
   ],
   "source": [
    "kernels_currentVersion[\n",
    "    kernels_currentVersion['AuthorUserId'] != kernels_currentVersion['AuthorUserId_currentVersion']].shape[0]"
   ]
  },
  {
   "cell_type": "markdown",
   "metadata": {},
   "source": [
    "Yes, evidently there is.\n",
    "\n",
    "So I guess that I should use the author ID from the KernelVersions table: he must be the actual author of the notebook that I will download via the API/donwload URL.\n",
    "\n",
    "With this assuption in mind, I further join the dataframe resulting from the previous join operations with `Users.csv`."
   ]
  },
  {
   "cell_type": "code",
   "execution_count": 10,
   "metadata": {},
   "outputs": [
    {
     "name": "stdout",
     "output_type": "stream",
     "text": [
      "Number of kernels with language and author info: 327,550\n",
      "Number of kernels removed from the previous cleaning step: 3,858\n",
      "Percentage over the cleaned set: 98.84%\n",
      "Percentage over the original set: 87.30%\n"
     ]
    }
   ],
   "source": [
    "kernel_currentVersion_language_author = pd.merge(\n",
    "    kernel_currentVersion_language, users,\n",
    "    left_on='AuthorUserId_currentVersion', right_on='Id',\n",
    "    suffixes=('', '_author'))\n",
    "\n",
    "summarize_cleaning_step('kernels with language and author info', kernel_currentVersion_language_author, kernel_currentVersion_language, kernels)"
   ]
  },
  {
   "cell_type": "markdown",
   "metadata": {},
   "source": [
    "Now I am able to produce URL lists for kernels belonging to each language in the table (i.e., for python kernels of each of the four types listed in the last table).\n",
    "\n",
    "I will use these links to retrieve the corresponding kaggle.com pages and understand - by a manual qualitative inspection - the nature such kernels."
   ]
  },
  {
   "cell_type": "code",
   "execution_count": 11,
   "metadata": {},
   "outputs": [
    {
     "name": "stdout",
     "output_type": "stream",
     "text": [
      "Number of kernels of type \"Python\": 21,503\n",
      "Number of kernels of type \"IPython Notebook\": 49,414\n",
      "Number of kernels of type \"IPython Notebook HTML\": 224,336\n",
      "Number of kernels of type \"Python Script - Interactive\": 15\n"
     ]
    }
   ],
   "source": [
    "#  Python\n",
    "python = kernel_currentVersion_language_author[\n",
    "    kernel_currentVersion_language_author['Name'] == 'Python'][['UserName', 'CurrentUrlSlug', 'CreationDate_currentVersion']]\n",
    "\n",
    "# IPython Notebook\n",
    "ipython_notebook = kernel_currentVersion_language_author[\n",
    "    kernel_currentVersion_language_author['Name'] == 'IPython Notebook'][['UserName', 'CurrentUrlSlug', 'CreationDate_currentVersion']]\n",
    "\n",
    "# IPython Notebook HTML\n",
    "ipython_notebook_html = kernel_currentVersion_language_author[\n",
    "    kernel_currentVersion_language_author['Name'] == 'IPython Notebook HTML'][['UserName', 'CurrentUrlSlug', 'CreationDate_currentVersion']]\n",
    "\n",
    "# Python Script - Interactive\n",
    "python_script_interactive = kernel_currentVersion_language_author[\n",
    "    kernel_currentVersion_language_author['Name'] == 'Python Script - Interactive'][['UserName', 'CurrentUrlSlug', 'CreationDate_currentVersion']]\n",
    "\n",
    "python_kernels = {\n",
    "    'Python': python,\n",
    "    'IPython Notebook': ipython_notebook,\n",
    "    'IPython Notebook HTML': ipython_notebook_html,\n",
    "    'Python Script - Interactive': python_script_interactive\n",
    "}\n",
    "\n",
    "for kernel in python_kernels:\n",
    "    \n",
    "    print('Number of kernels of type \"{}\": {:,d}'.format(kernel, python_kernels[kernel].shape[0]))\n",
    "    \n",
    "    python_kernels[kernel].sort_values('CreationDate_currentVersion', ascending=False)\n",
    "    \n",
    "    python_kernels[kernel]['url'] = 'https://www.kaggle.com/' + python_kernels[kernel]['UserName'] + '/' + python_kernels[kernel]['CurrentUrlSlug']\n",
    "    python_kernels[kernel]['slug'] = python_kernels[kernel]['UserName'] + '/' + python_kernels[kernel]['CurrentUrlSlug']\n",
    "    \n",
    "    python_kernels[kernel]['url'].to_csv('notebook_output/{} - URLs.csv'.format(kernel), header=False, index=False)\n",
    "    python_kernels[kernel]['slug'].to_csv('notebook_output/{} - slugs.csv'.format(kernel), header=False, index=False)\n",
    "    "
   ]
  },
  {
   "cell_type": "markdown",
   "metadata": {},
   "source": [
    "#### Manual inspection of the different types of Kaggle Python kernels\n",
    "\n",
    "I performed a manual, qualitative inspection of a sample of kernels from each python language category.\n",
    "\n",
    "I discovered what follows.\n",
    "\n",
    "- `Python` kernels are actual python scripts (and not Jupyter Notebooks).\n",
    "- `IPython Notebook` kernels are not available anymore (for the most part).\n",
    "- `IPython Notebook HTML` kernels are the HTML version of Jupyter Notebook files; they must have been produced using `nbconvert`; however, with the help of the Kaggle official API, it is possibile to download the source `.ipynb` notebook (without retrospective data, i.e., output cells). It is also possibile to downalod full `.ipynb` files (with retrospective data), using the following pattern to form download URLs: `https://www.kaggle.com/kernels/scriptcontent/<CurrentKernelVersionId>/download`\n",
    "- `Python Script - Interactive` kernels are just 15 and are not available anymore."
   ]
  },
  {
   "cell_type": "markdown",
   "metadata": {},
   "source": [
    "##### A further justification\n",
    "\n",
    "`IPython Notebook` and `Python Script - Interactive` kernels might be old language tags that are not used anymore. I try to prove that by querying the `CreationDate` field from the `KernelVersions` table."
   ]
  },
  {
   "cell_type": "code",
   "execution_count": 12,
   "metadata": {},
   "outputs": [
    {
     "data": {
      "text/plain": [
       "count                   49414\n",
       "unique                  49322\n",
       "top       2017-01-10 18:20:52\n",
       "freq                        3\n",
       "first     2015-08-27 04:17:45\n",
       "last      2018-04-18 17:30:49\n",
       "Name: CreationDate_currentVersion, dtype: object"
      ]
     },
     "execution_count": 12,
     "metadata": {},
     "output_type": "execute_result"
    }
   ],
   "source": [
    "ipython_notebook['CreationDate_currentVersion'].describe()"
   ]
  },
  {
   "cell_type": "code",
   "execution_count": 13,
   "metadata": {},
   "outputs": [
    {
     "data": {
      "text/plain": [
       "count                      15\n",
       "unique                     15\n",
       "top       2018-02-25 11:22:21\n",
       "freq                        1\n",
       "first     2017-10-23 14:56:15\n",
       "last      2018-04-13 02:14:54\n",
       "Name: CreationDate_currentVersion, dtype: object"
      ]
     },
     "execution_count": 13,
     "metadata": {},
     "output_type": "execute_result"
    }
   ],
   "source": [
    "python_script_interactive['CreationDate_currentVersion'].describe()"
   ]
  },
  {
   "cell_type": "markdown",
   "metadata": {},
   "source": [
    "In both cases, kenrels of these kinds seem to have been dismissed during April 2018."
   ]
  },
  {
   "cell_type": "code",
   "execution_count": 14,
   "metadata": {},
   "outputs": [
    {
     "data": {
      "text/plain": [
       "count                   21503\n",
       "unique                  21501\n",
       "top       2016-06-14 06:46:08\n",
       "freq                        2\n",
       "first     2015-04-03 17:00:18\n",
       "last      2020-07-14 15:51:11\n",
       "Name: CreationDate_currentVersion, dtype: object"
      ]
     },
     "execution_count": 14,
     "metadata": {},
     "output_type": "execute_result"
    }
   ],
   "source": [
    "python['CreationDate_currentVersion'].describe()"
   ]
  },
  {
   "cell_type": "code",
   "execution_count": 15,
   "metadata": {},
   "outputs": [
    {
     "data": {
      "text/plain": [
       "count                  224336\n",
       "unique                 223859\n",
       "top       2018-10-11 20:06:49\n",
       "freq                        8\n",
       "first     2015-09-15 22:01:57\n",
       "last      2020-07-15 00:03:03\n",
       "Name: CreationDate_currentVersion, dtype: object"
      ]
     },
     "execution_count": 15,
     "metadata": {},
     "output_type": "execute_result"
    }
   ],
   "source": [
    "ipython_notebook_html['CreationDate_currentVersion'].describe()"
   ]
  },
  {
   "cell_type": "markdown",
   "metadata": {},
   "source": [
    "On the contrary, the other two types of kernel seem to span the whole period of time covered by the dataset."
   ]
  },
  {
   "cell_type": "markdown",
   "metadata": {},
   "source": [
    "I can finally filter the dataset and take only Python Jupyter Notebooks."
   ]
  },
  {
   "cell_type": "code",
   "execution_count": 16,
   "metadata": {},
   "outputs": [
    {
     "name": "stdout",
     "output_type": "stream",
     "text": [
      "Number of Python Jupyter Notebook kernels: 224,336\n",
      "Number of kernels removed from the previous cleaning step: 103,214\n",
      "Percentage over the cleaned set: 68.49%\n",
      "Percentage over the original set: 59.79%\n"
     ]
    }
   ],
   "source": [
    "df = kernel_currentVersion_language_author[\n",
    "    kernel_currentVersion_language_author['Name'] == 'IPython Notebook HTML']\n",
    "\n",
    "summarize_cleaning_step('Python Jupyter Notebook kernels', df,\n",
    "                        kernel_currentVersion_language_author, kernels)"
   ]
  },
  {
   "cell_type": "markdown",
   "metadata": {},
   "source": [
    "## Filter notebooks by expert users"
   ]
  },
  {
   "cell_type": "markdown",
   "metadata": {},
   "source": [
    "### User Achievements"
   ]
  },
  {
   "cell_type": "markdown",
   "metadata": {},
   "source": [
    "First of all, I want to understand how to separate Kaggle beginners from experienced users."
   ]
  },
  {
   "cell_type": "code",
   "execution_count": 17,
   "metadata": {},
   "outputs": [
    {
     "data": {
      "text/plain": [
       "Discussion      3570152\n",
       "Competitions    3570152\n",
       "Scripts         3570152\n",
       "Name: AchievementType, dtype: int64"
      ]
     },
     "execution_count": 17,
     "metadata": {},
     "output_type": "execute_result"
    }
   ],
   "source": [
    "userAchievements.AchievementType.value_counts()"
   ]
  },
  {
   "cell_type": "code",
   "execution_count": 18,
   "metadata": {},
   "outputs": [
    {
     "data": {
      "text/plain": [
       "3    3570152\n",
       "Name: Id, dtype: int64"
      ]
     },
     "execution_count": 18,
     "metadata": {},
     "output_type": "execute_result"
    }
   ],
   "source": [
    "userAchievements.groupby('UserId')['Id'].count().value_counts()"
   ]
  },
  {
   "cell_type": "markdown",
   "metadata": {},
   "source": [
    "Each user is associated with 3 rows in the table `UserAchievements.csv`. Each of these rows describes the achievement of that user in one of the four *categories of expertise* mentioned in the [Kaggle Documentation](https://www.kaggle.com/progression).\n",
    "\n",
    "Of such 4 categories of expertise (`Competitions`, `Notebooks`, `Datasets`, and `Discussion`), only 3 are covered in the Meta Kaggle dataset: the `Datasets` category is missing. \n",
    "\n",
    "In `UserAchievements.csv`, the category of expertise is defined by the field `AchievementType`.\n",
    "\n",
    "I will now try to understand how users are distributed along the possibile *expertise tiers*: `Novice`, `Contributor`, `Expert`, `Master`, and `Grandmaster`."
   ]
  },
  {
   "cell_type": "code",
   "execution_count": 19,
   "metadata": {},
   "outputs": [
    {
     "data": {
      "image/png": "[encoded data removed]",
      "text/plain": [
       "<Figure size 1152x360 with 2 Axes>"
      ]
     },
     "metadata": {
      "needs_background": "light"
     },
     "output_type": "display_data"
    }
   ],
   "source": [
    "tiers = userAchievements.Tier.value_counts()\n",
    "tiers_labels = [\n",
    "    'Novice',\n",
    "    'Contributor',\n",
    "    'Expert',\n",
    "    'Master',\n",
    "    'Grandmaster'\n",
    "]\n",
    "\n",
    "plt.subplot(121)\n",
    "sns.barplot(tiers_labels, tiers.values)\n",
    "plt.title('Tiers Frequency Distribution', fontsize=13, pad=20)\n",
    "plt.xlabel('Tier names', labelpad=20)\n",
    "plt.ylabel('Frequency', labelpad=15)\n",
    "\n",
    "\n",
    "plt.subplot(122)\n",
    "sns.barplot(tiers_labels, tiers.values, log=True)\n",
    "plt.title('Tiers Frequency Distribution (LOG SCALE)', fontsize=13, pad=20)\n",
    "plt.xlabel('Tier names', labelpad=20)\n",
    "plt.ylabel('Frequency', labelpad=15)\n",
    "\n",
    "plt.gcf().set_size_inches(16,5)"
   ]
  },
  {
   "cell_type": "code",
   "execution_count": 20,
   "metadata": {},
   "outputs": [
    {
     "data": {
      "text/html": [
       "<div>\n",
       "<style scoped>\n",
       "    .dataframe tbody tr th:only-of-type {\n",
       "        vertical-align: middle;\n",
       "    }\n",
       "\n",
       "    .dataframe tbody tr th {\n",
       "        vertical-align: top;\n",
       "    }\n",
       "\n",
       "    .dataframe thead th {\n",
       "        text-align: right;\n",
       "    }\n",
       "</style>\n",
       "<table border=\"1\" class=\"dataframe\">\n",
       "  <thead>\n",
       "    <tr style=\"text-align: right;\">\n",
       "      <th></th>\n",
       "      <th>Scripts</th>\n",
       "      <th>Competitions</th>\n",
       "      <th>Discussions</th>\n",
       "      <th>TOTAL frequency</th>\n",
       "    </tr>\n",
       "    <tr>\n",
       "      <th>Tier name</th>\n",
       "      <th></th>\n",
       "      <th></th>\n",
       "      <th></th>\n",
       "      <th></th>\n",
       "    </tr>\n",
       "  </thead>\n",
       "  <tbody>\n",
       "    <tr>\n",
       "      <th>Novice</th>\n",
       "      <td>3484484</td>\n",
       "      <td>3484484</td>\n",
       "      <td>3484484</td>\n",
       "      <td>10453452</td>\n",
       "    </tr>\n",
       "    <tr>\n",
       "      <th>Contributor</th>\n",
       "      <td>84675</td>\n",
       "      <td>78370</td>\n",
       "      <td>84694</td>\n",
       "      <td>247739</td>\n",
       "    </tr>\n",
       "    <tr>\n",
       "      <th>Expert</th>\n",
       "      <td>867</td>\n",
       "      <td>5670</td>\n",
       "      <td>893</td>\n",
       "      <td>7430</td>\n",
       "    </tr>\n",
       "    <tr>\n",
       "      <th>Master</th>\n",
       "      <td>99</td>\n",
       "      <td>1441</td>\n",
       "      <td>58</td>\n",
       "      <td>1598</td>\n",
       "    </tr>\n",
       "    <tr>\n",
       "      <th>Grandmaster</th>\n",
       "      <td>27</td>\n",
       "      <td>187</td>\n",
       "      <td>23</td>\n",
       "      <td>237</td>\n",
       "    </tr>\n",
       "  </tbody>\n",
       "</table>\n",
       "</div>"
      ],
      "text/plain": [
       "             Scripts  Competitions  Discussions  TOTAL frequency\n",
       "Tier name                                                       \n",
       "Novice       3484484       3484484      3484484         10453452\n",
       "Contributor    84675         78370        84694           247739\n",
       "Expert           867          5670          893             7430\n",
       "Master            99          1441           58             1598\n",
       "Grandmaster       27           187           23              237"
      ]
     },
     "execution_count": 20,
     "metadata": {},
     "output_type": "execute_result"
    }
   ],
   "source": [
    "tiers_scripts = userAchievements.loc[userAchievements['AchievementType'] == 'Scripts', ['Tier']].Tier.value_counts()\n",
    "tiers_competitions = userAchievements.loc[userAchievements['AchievementType'] == 'Competitions', ['Tier']].Tier.value_counts()\n",
    "tiers_discussions = userAchievements.loc[userAchievements['AchievementType'] == 'Discussion', ['Tier']].Tier.value_counts()\n",
    "\n",
    "tiers_summary_df_map = {\n",
    "    'Tier name':tiers_labels,\n",
    "    'Scripts': tiers_scripts,\n",
    "    'Competitions': tiers_competitions,\n",
    "    'Discussions': tiers_discussions,\n",
    "    'TOTAL frequency': tiers\n",
    "}\n",
    "tiers_summary_df = pd.DataFrame(tiers_summary_df_map)\n",
    "tiers_summary_df.set_index('Tier name')"
   ]
  },
  {
   "cell_type": "markdown",
   "metadata": {},
   "source": [
    "I decide to focus my analyses on notebooks by users that are at least in the `Expert` tier in at least one of the categories of expertise available in Meta Kaggle. So I further filter out rows from this dataset according to this criterion."
   ]
  },
  {
   "cell_type": "markdown",
   "metadata": {},
   "source": [
    "### Experienced authors\n",
    "\n",
    "To begin this new filtering step, I need a list of all the experienced authors in Kaggle.\n",
    "\n",
    "I further define the concept of **experienced author** as follows:\n",
    "\n",
    "> I consider an **experienced author** a Kaggle user that is at least in the `Expert` tier in at least one of the *categories of experise* available in Meta Kaggle and that has been in this condition for at least the last six months.\n",
    "\n",
    "Indeed I don't want to analyze notebooks from authors that have just reached the `Expert` tier."
   ]
  },
  {
   "cell_type": "code",
   "execution_count": 24,
   "metadata": {},
   "outputs": [
    {
     "data": {
      "text/plain": [
       "datetime.datetime(2020, 1, 17, 17, 31, 44, 10097)"
      ]
     },
     "execution_count": 24,
     "metadata": {},
     "output_type": "execute_result"
    }
   ],
   "source": [
    "\n",
    "six_months_ago"
   ]
  },
  {
   "cell_type": "code",
   "execution_count": 25,
   "metadata": {},
   "outputs": [
    {
     "data": {
      "text/plain": [
       "7185"
      ]
     },
     "execution_count": 25,
     "metadata": {},
     "output_type": "execute_result"
    }
   ],
   "source": [
    "six_months_ago = datetime.now() + relativedelta(months=-6)\n",
    "expert_achievements = userAchievements[\n",
    "    (userAchievements['Tier'] > 1) & (userAchievements['TierAchievementDate'] < six_months_ago)]\n",
    "experts = expert_achievements.UserId.unique()\n",
    "experts.shape[0]"
   ]
  },
  {
   "cell_type": "markdown",
   "metadata": {},
   "source": [
    "This is the number of users that are in the `Expert`, `Master` or `Grandmaster` tier in one of the three categories of expertise: `Competition`, `Notebook`, `Discussion` since more than six months.\n",
    "\n",
    "I can now filter notebooks by these knowledgeable authors.\n",
    "\n",
    "I want to take notebooks whose latest version has been created after their author has been promoted to (at least) the expert tier in some category of expertise."
   ]
  },
  {
   "cell_type": "code",
   "execution_count": 40,
   "metadata": {},
   "outputs": [
    {
     "name": "stdout",
     "output_type": "stream",
     "text": [
      "CPU times: user 6min 6s, sys: 2.83 s, total: 6min 9s\n",
      "Wall time: 6min 21s\n"
     ]
    }
   ],
   "source": [
    "%%time\n",
    "notebooks_by_experts = df[df.apply(\n",
    "    lambda x: not expert_achievements[\n",
    "        (expert_achievements['UserId'] == x['AuthorUserId_currentVersion']) &\n",
    "        (expert_achievements['TierAchievementDate'] < x['CreationDate_currentVersion'])\n",
    "    ].empty\n",
    ", axis=1)]\n",
    "\n",
    "notebooks_by_beginners = df[~df.index.isin(notebooks_by_experts.index)]"
   ]
  },
  {
   "cell_type": "code",
   "execution_count": 44,
   "metadata": {},
   "outputs": [
    {
     "name": "stdout",
     "output_type": "stream",
     "text": [
      "Number of Jupyter Notebooks from experts: 11,592\n",
      "Number of kernels removed from the previous cleaning step: 212,744\n",
      "Percentage over the cleaned set: 5.17%\n",
      "Percentage over the original set: 3.09%\n"
     ]
    }
   ],
   "source": [
    "summarize_cleaning_step('Jupyter Notebooks from experts', notebooks_by_experts, df, kernels)"
   ]
  },
  {
   "cell_type": "code",
   "execution_count": 45,
   "metadata": {},
   "outputs": [
    {
     "name": "stdout",
     "output_type": "stream",
     "text": [
      "# of notebooks to be partitioned: 224,336\n",
      "# of notebooks by esperts: 11,592\n",
      "# of notebooks by beginners: 212,744\n"
     ]
    }
   ],
   "source": [
    "print(\"# of notebooks to be partitioned: {:,}\".format(df.shape[0]))\n",
    "print(\"# of notebooks by esperts: {:,}\".format(notebooks_by_experts.shape[0]))\n",
    "print(\"# of notebooks by beginners: {:,}\".format(notebooks_by_beginners.shape[0]))"
   ]
  },
  {
   "cell_type": "markdown",
   "metadata": {},
   "source": [
    "### Visualization of the filtering steps"
   ]
  },
  {
   "cell_type": "code",
   "execution_count": 46,
   "metadata": {},
   "outputs": [
    {
     "data": {
      "image/png": "[encoded data removed]",
      "text/plain": [
       "<Figure size 864x360 with 1 Axes>"
      ]
     },
     "metadata": {},
     "output_type": "display_data"
    }
   ],
   "source": [
    "steps = {\n",
    "    '5. Python Notebooks by experts': notebooks_by_experts.shape[0],\n",
    "    '4. Python Jupyter Notebooks': df.shape[0],\n",
    "    '3. Kernels with language and author info': kernel_currentVersion_language_author.shape[0],\n",
    "    '2. Kernels with language info': kernel_currentVersion_language.shape[0],\n",
    "    '1. Kernels with current kernel version info': kernels_currentVersion.shape[0],\n",
    "    '0. Items in `Kernels.csv`': kernels.shape[0]\n",
    "}\n",
    "\n",
    "plt.barh(y=list(steps.keys()), width=list(steps.values()))\n",
    "for index, value in enumerate(list(steps.values())):\n",
    "    plt.text(value, index, '{:,d}'.format(value))\n",
    "    \n",
    "plt.title(\"Number of kernels after each cleaning step\", fontsize=18, pad=20)\n",
    "plt.xlabel(\"Number of kernels available for the analysis\", fontsize=14, labelpad=25)\n",
    "plt.ylabel(\"Cleaning step\", fontsize=14, labelpad=20)\n",
    "    \n",
    "plt.gcf().set_size_inches(12,5)"
   ]
  },
  {
   "cell_type": "markdown",
   "metadata": {},
   "source": [
    "## Further minor filtering operations"
   ]
  },
  {
   "cell_type": "markdown",
   "metadata": {},
   "source": [
    "### CurrentUrlSlug"
   ]
  },
  {
   "cell_type": "markdown",
   "metadata": {},
   "source": [
    "To download the notebooks via the API I need the `CurrentUrlSlug`.\n",
    "I make sure that every kernel in the dataset has a `CurrentUrlSlug`."
   ]
  },
  {
   "cell_type": "code",
   "execution_count": 47,
   "metadata": {},
   "outputs": [
    {
     "data": {
      "text/plain": [
       "0"
      ]
     },
     "execution_count": 47,
     "metadata": {},
     "output_type": "execute_result"
    }
   ],
   "source": [
    "notebooks_by_experts[notebooks_by_experts['CurrentUrlSlug'].isna()].shape[0]"
   ]
  },
  {
   "cell_type": "markdown",
   "metadata": {},
   "source": [
    "Every notebook in the dataset has a `CurrentUrlSlug`."
   ]
  },
  {
   "cell_type": "markdown",
   "metadata": {},
   "source": [
    "### IsProjectLanguageTemplate\n",
    "\n",
    "After a manual inspection, I realized that kernels marked with the flag `IsProjectLanguageTemplate` are not to be included in the analysis. They are, as the name of the flag suggests, just templates, maybe provided to participants in the beginning of challenges."
   ]
  },
  {
   "cell_type": "code",
   "execution_count": 48,
   "metadata": {},
   "outputs": [
    {
     "data": {
      "text/plain": [
       "0"
      ]
     },
     "execution_count": 48,
     "metadata": {},
     "output_type": "execute_result"
    }
   ],
   "source": [
    "notebooks_by_experts[notebooks_by_experts['IsProjectLanguageTemplate']].shape[0]"
   ]
  },
  {
   "cell_type": "markdown",
   "metadata": {},
   "source": [
    "After the filtering operations above, no *\"project language template\"* has survived, therefore the cleaning operations are completed."
   ]
  },
  {
   "cell_type": "markdown",
   "metadata": {},
   "source": [
    "## Output filtered URL/slug list"
   ]
  },
  {
   "cell_type": "code",
   "execution_count": 49,
   "metadata": {},
   "outputs": [
    {
     "data": {
      "text/plain": [
       "Index(['Id', 'AuthorUserId', 'CurrentKernelVersionId',\n",
       "       'ForkParentKernelVersionId', 'ForumTopicId', 'FirstKernelVersionId',\n",
       "       'CreationDate', 'EvaluationDate', 'MadePublicDate',\n",
       "       'IsProjectLanguageTemplate', 'CurrentUrlSlug', 'Medal',\n",
       "       'MedalAwardDate', 'TotalViews', 'TotalComments', 'TotalVotes',\n",
       "       'Id_currentVersion', 'ScriptId', 'ScriptLanguageId',\n",
       "       'AuthorUserId_currentVersion', 'CreationDate_currentVersion',\n",
       "       'VersionNumber', 'TotalLines', 'TotalVotes_currentVersion',\n",
       "       'Id_language', 'Name', 'DisplayName', 'IsNotebook', 'Id_author',\n",
       "       'UserName', 'DisplayName_author', 'RegisterDate', 'PerformanceTier'],\n",
       "      dtype='object')"
      ]
     },
     "execution_count": 49,
     "metadata": {},
     "output_type": "execute_result"
    }
   ],
   "source": [
    "notebooks_by_experts.columns"
   ]
  },
  {
   "cell_type": "code",
   "execution_count": 50,
   "metadata": {},
   "outputs": [
    {
     "name": "stderr",
     "output_type": "stream",
     "text": [
      "/usr/local/lib/python3.7/site-packages/ipykernel_launcher.py:1: SettingWithCopyWarning: \n",
      "A value is trying to be set on a copy of a slice from a DataFrame.\n",
      "Try using .loc[row_indexer,col_indexer] = value instead\n",
      "\n",
      "See the caveats in the documentation: http://pandas.pydata.org/pandas-docs/stable/indexing.html#indexing-view-versus-copy\n",
      "  \"\"\"Entry point for launching an IPython kernel.\n",
      "/usr/local/lib/python3.7/site-packages/ipykernel_launcher.py:2: SettingWithCopyWarning: \n",
      "A value is trying to be set on a copy of a slice from a DataFrame.\n",
      "Try using .loc[row_indexer,col_indexer] = value instead\n",
      "\n",
      "See the caveats in the documentation: http://pandas.pydata.org/pandas-docs/stable/indexing.html#indexing-view-versus-copy\n",
      "  \n",
      "/usr/local/lib/python3.7/site-packages/ipykernel_launcher.py:3: SettingWithCopyWarning: \n",
      "A value is trying to be set on a copy of a slice from a DataFrame.\n",
      "Try using .loc[row_indexer,col_indexer] = value instead\n",
      "\n",
      "See the caveats in the documentation: http://pandas.pydata.org/pandas-docs/stable/indexing.html#indexing-view-versus-copy\n",
      "  This is separate from the ipykernel package so we can avoid doing imports until\n",
      "/usr/local/lib/python3.7/site-packages/ipykernel_launcher.py:5: SettingWithCopyWarning: \n",
      "A value is trying to be set on a copy of a slice from a DataFrame.\n",
      "Try using .loc[row_indexer,col_indexer] = value instead\n",
      "\n",
      "See the caveats in the documentation: http://pandas.pydata.org/pandas-docs/stable/indexing.html#indexing-view-versus-copy\n",
      "  \"\"\"\n",
      "/usr/local/lib/python3.7/site-packages/ipykernel_launcher.py:6: SettingWithCopyWarning: \n",
      "A value is trying to be set on a copy of a slice from a DataFrame.\n",
      "Try using .loc[row_indexer,col_indexer] = value instead\n",
      "\n",
      "See the caveats in the documentation: http://pandas.pydata.org/pandas-docs/stable/indexing.html#indexing-view-versus-copy\n",
      "  \n",
      "/usr/local/lib/python3.7/site-packages/ipykernel_launcher.py:7: SettingWithCopyWarning: \n",
      "A value is trying to be set on a copy of a slice from a DataFrame.\n",
      "Try using .loc[row_indexer,col_indexer] = value instead\n",
      "\n",
      "See the caveats in the documentation: http://pandas.pydata.org/pandas-docs/stable/indexing.html#indexing-view-versus-copy\n",
      "  import sys\n"
     ]
    }
   ],
   "source": [
    "notebooks_by_experts['url'] = 'https://www.kaggle.com/' + notebooks_by_experts['UserName'] + '/' + notebooks_by_experts['CurrentUrlSlug']\n",
    "notebooks_by_experts['full_download_url'] = 'https://www.kaggle.com/kernels/scriptcontent/' + notebooks_by_experts['CurrentKernelVersionId'].astype('int64').astype('str') + '/download'\n",
    "notebooks_by_experts['slug'] = notebooks_by_experts['UserName'] + '/' + notebooks_by_experts['CurrentUrlSlug']\n",
    "\n",
    "notebooks_by_beginners['url'] = 'https://www.kaggle.com/' + notebooks_by_beginners['UserName'] + '/' + notebooks_by_beginners['CurrentUrlSlug']\n",
    "notebooks_by_beginners['full_download_url'] = 'https://www.kaggle.com/kernels/scriptcontent/' + notebooks_by_beginners['CurrentKernelVersionId'].astype('int64').astype('str') + '/download'\n",
    "notebooks_by_beginners['slug'] = notebooks_by_beginners['UserName'] + '/' + notebooks_by_beginners['CurrentUrlSlug']"
   ]
  },
  {
   "cell_type": "markdown",
   "metadata": {},
   "source": [
    "### URLs"
   ]
  },
  {
   "cell_type": "code",
   "execution_count": 51,
   "metadata": {},
   "outputs": [],
   "source": [
    "notebooks_by_experts['url'].to_csv('notebook_output/Notebooks by experts - URLs.csv', header=False, index=False)\n",
    "notebooks_by_beginners['url'].to_csv('notebook_output/Notebooks by beginners - URLs.csv', header=False, index=False)"
   ]
  },
  {
   "cell_type": "markdown",
   "metadata": {},
   "source": [
    "### Slugs"
   ]
  },
  {
   "cell_type": "code",
   "execution_count": 52,
   "metadata": {},
   "outputs": [],
   "source": [
    "notebooks_by_experts['slug'].to_csv('notebook_output/Notebooks by experts - slugs.csv', header=False, index=False)\n",
    "notebooks_by_beginners['slug'].to_csv('notebook_output/Notebooks by beginners - slugs.csv', header=False, index=False)"
   ]
  },
  {
   "cell_type": "markdown",
   "metadata": {},
   "source": [
    "### Full download URLs"
   ]
  },
  {
   "cell_type": "code",
   "execution_count": 53,
   "metadata": {},
   "outputs": [],
   "source": [
    "notebooks_by_experts.to_csv('notebook_output/Notebooks by experts - full download URLs.csv', columns=['slug', 'full_download_url'], header=['slug', 'url'], index=False)\n",
    "notebooks_by_beginners.to_csv('notebook_output/Notebooks by beginners - full download URLs.csv', columns=['slug', 'full_download_url'], header=['slug', 'url'], index=False)"
   ]
  },
  {
   "cell_type": "markdown",
   "metadata": {},
   "source": [
    "# Further analyses on this dataset\n",
    "\n",
    "## Distribution of notebooks creation dates"
   ]
  },
  {
   "cell_type": "code",
   "execution_count": 54,
   "metadata": {},
   "outputs": [
    {
     "data": {
      "text/plain": [
       "count                   11592\n",
       "unique                  11591\n",
       "top       2019-12-13 17:13:20\n",
       "freq                        2\n",
       "first     2016-07-15 04:41:15\n",
       "last      2020-07-14 23:36:08\n",
       "Name: CreationDate_currentVersion, dtype: object"
      ]
     },
     "execution_count": 54,
     "metadata": {},
     "output_type": "execute_result"
    }
   ],
   "source": [
    "notebooks_by_experts.CreationDate_currentVersion.describe()"
   ]
  }
 ],
 "metadata": {
  "kernelspec": {
   "display_name": "Python 3",
   "language": "python",
   "name": "python3"
  },
  "language_info": {
   "codemirror_mode": {
    "name": "ipython",
    "version": 3
   },
   "file_extension": ".py",
   "mimetype": "text/x-python",
   "name": "python",
   "nbconvert_exporter": "python",
   "pygments_lexer": "ipython3",
   "version": "3.7.6"
  }
 },
 "nbformat": 4,
 "nbformat_minor": 4
}
