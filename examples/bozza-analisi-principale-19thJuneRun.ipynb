{
 "cells": [
  {
   "cell_type": "markdown",
   "metadata": {},
   "source": [
    "# Dataset Overview"
   ]
  },
  {
   "cell_type": "markdown",
   "metadata": {},
   "source": [
    "### Imports & Constants"
   ]
  },
  {
   "cell_type": "code",
   "execution_count": 1,
   "metadata": {
    "_cell_guid": "b1076dfc-b9ad-4769-8c92-a6c4dae69d19",
    "_uuid": "8f2839f25d086af736a60e9eeb907d3b93b6e0e5"
   },
   "outputs": [],
   "source": [
    "import os\n",
    "import numpy as np\n",
    "import pandas as pd\n",
    "\n",
    "import matplotlib.pyplot as plt\n",
    "import seaborn as sns\n",
    "sns.set(style=\"darkgrid\")\n",
    "\n",
    "from IPython.display import Image\n",
    "\n",
    "DATASET_PATH = '../Kaggle data/meta-kaggle'"
   ]
  },
  {
   "cell_type": "markdown",
   "metadata": {},
   "source": [
    "## Conceptual Model"
   ]
  },
  {
   "cell_type": "markdown",
   "metadata": {},
   "source": [
    "### Utility functions"
   ]
  },
  {
   "cell_type": "code",
   "execution_count": 2,
   "metadata": {},
   "outputs": [],
   "source": [
    "def summarize_cleaning_step(current_df_name, current_df, previous_df, original_df):\n",
    "    \"\"\"\n",
    "    Prints the number of items after the current cleaning step and\n",
    "    the percentages of items saved by the cleaning step with respect to\n",
    "    the dataframe before its application and the original dataset.\n",
    "    \"\"\"\n",
    "    current_df_len = current_df.shape[0]\n",
    "    print('Number of {}: {:,d}'.format(current_df_name, current_df_len))\n",
    "    \n",
    "    number_of_removed_kernels = previous_df.shape[0] - current_df_len\n",
    "    print('Number of kernels removed from the previous cleaning step: {:,d}'.format(number_of_removed_kernels))\n",
    "\n",
    "    percentage_over_cleaned = current_df_len * 100 / previous_df.shape[0] \n",
    "    print('Percentage over the cleaned set: {:.2f}%'.format(percentage_over_cleaned))\n",
    "\n",
    "    percentage_over_original = current_df_len * 100 / original_df.shape[0] \n",
    "    print('Percentage over the original set: {:.2f}%'.format(percentage_over_original))"
   ]
  },
  {
   "cell_type": "markdown",
   "metadata": {},
   "source": [
    "### Data import"
   ]
  },
  {
   "cell_type": "code",
   "execution_count": 3,
   "metadata": {},
   "outputs": [
    {
     "name": "stdout",
     "output_type": "stream",
     "text": [
      "CPU times: user 2min, sys: 639 ms, total: 2min 1s\n",
      "Wall time: 2min 2s\n",
      "CPU times: user 7min 29s, sys: 4.29 s, total: 7min 34s\n",
      "Wall time: 7min 39s\n",
      "CPU times: user 3.39 ms, sys: 2.31 ms, total: 5.69 ms\n",
      "Wall time: 12.9 ms\n",
      "CPU times: user 8min 10s, sys: 4.04 s, total: 8min 14s\n",
      "Wall time: 8min 23s\n",
      "CPU times: user 16min 4s, sys: 4.77 s, total: 16min 8s\n",
      "Wall time: 16min 13s\n",
      "CPU times: user 33min 44s, sys: 13.9 s, total: 33min 58s\n",
      "Wall time: 34min 20s\n"
     ]
    }
   ],
   "source": [
    "%%time\n",
    "\n",
    "# KERNELS\n",
    "dates_to_be_parsed = [\n",
    "    'CreationDate',\n",
    "    'EvaluationDate',\n",
    "    'MadePublicDate',\n",
    "    'MedalAwardDate'\n",
    "]\n",
    "%time kernels = pd.read_csv(os.path.join(DATASET_PATH, 'Kernels.csv'), parse_dates=dates_to_be_parsed)\n",
    "\n",
    "# KERNEL VERSIONS\n",
    "%time kernelVersions = pd.read_csv(os.path.join(DATASET_PATH, 'KernelVersions.csv'), parse_dates=['CreationDate'])\n",
    "kernelVersions = kernelVersions[[\n",
    "    'Id',\n",
    "    'ScriptId',\n",
    "    'ScriptLanguageId',\n",
    "    'AuthorUserId',  # Is the author consistent with the source script?\n",
    "    'CreationDate',  # How often the creation date is different from the source script's one?\n",
    "    'VersionNumber',\n",
    "    'TotalLines',  # Might this be a threshold? What's the distribution?\n",
    "    'TotalVotes'  # How is this variable related to the source script's correspondent?\n",
    "]]\n",
    "\n",
    "# KERNEL LANGUAGES\n",
    "%time kernelLanguages = pd.read_csv(os.path.join(DATASET_PATH, 'KernelLanguages.csv'))\n",
    "\n",
    "# USERS\n",
    "%time users = pd.read_csv(os.path.join(DATASET_PATH, 'Users.csv'), parse_dates=['RegisterDate'])\n",
    "\n",
    "# USER ACHIEVEMENTS\n",
    "dates_to_be_parsed = [\n",
    "    'TierAchievementDate',\n",
    "]\n",
    "%time userAchievements = pd.read_csv(os.path.join(DATASET_PATH, 'UserAchievements.csv'), parse_dates=dates_to_be_parsed)"
   ]
  },
  {
   "cell_type": "markdown",
   "metadata": {},
   "source": [
    "## Kernel Type & Language"
   ]
  },
  {
   "cell_type": "markdown",
   "metadata": {},
   "source": [
    "### Table joins"
   ]
  },
  {
   "cell_type": "markdown",
   "metadata": {},
   "source": [
    "Join `Kernels.csv` with `KernelVersions.csv`"
   ]
  },
  {
   "cell_type": "code",
   "execution_count": 4,
   "metadata": {},
   "outputs": [
    {
     "name": "stdout",
     "output_type": "stream",
     "text": [
      "Number of kernels with current version info: 319,590\n",
      "Number of kernels removed from the previous cleaning step: 42,274\n",
      "Percentage over the cleaned set: 88.32%\n",
      "Percentage over the original set: 88.32%\n"
     ]
    }
   ],
   "source": [
    "kernels_currentVersion = pd.merge(\n",
    "    kernels, kernelVersions,\n",
    "    left_on='CurrentKernelVersionId', right_on='Id',\n",
    "    suffixes=('', '_currentVersion'))\n",
    "\n",
    "summarize_cleaning_step('kernels with current version info', kernels_currentVersion, kernels, kernels)"
   ]
  },
  {
   "cell_type": "markdown",
   "metadata": {},
   "source": [
    "Join the result of the previous operation with `KernelLanguages.csv`"
   ]
  },
  {
   "cell_type": "code",
   "execution_count": 5,
   "metadata": {},
   "outputs": [
    {
     "name": "stdout",
     "output_type": "stream",
     "text": [
      "Number of kernels with language info: 318,855\n",
      "Number of kernels removed from the previous cleaning step: 735\n",
      "Percentage over the cleaned set: 99.77%\n",
      "Percentage over the original set: 88.11%\n"
     ]
    }
   ],
   "source": [
    "kernel_currentVersion_language = pd.merge(\n",
    "    kernels_currentVersion, kernelLanguages,\n",
    "    left_on='ScriptLanguageId', right_on='Id',\n",
    "    suffixes=('', '_language'))\n",
    "\n",
    "summarize_cleaning_step('kernels with language info', kernel_currentVersion_language, kernels_currentVersion, kernels)"
   ]
  },
  {
   "cell_type": "markdown",
   "metadata": {},
   "source": [
    "Now we have isolated kernels with info about their current version and the associated language and type.\n",
    "\n",
    "In particular, each kernel version is associated with one of these *\"kernel languages\"*."
   ]
  },
  {
   "cell_type": "code",
   "execution_count": 6,
   "metadata": {},
   "outputs": [
    {
     "data": {
      "text/html": [
       "<div>\n",
       "<style scoped>\n",
       "    .dataframe tbody tr th:only-of-type {\n",
       "        vertical-align: middle;\n",
       "    }\n",
       "\n",
       "    .dataframe tbody tr th {\n",
       "        vertical-align: top;\n",
       "    }\n",
       "\n",
       "    .dataframe thead th {\n",
       "        text-align: right;\n",
       "    }\n",
       "</style>\n",
       "<table border=\"1\" class=\"dataframe\">\n",
       "  <thead>\n",
       "    <tr style=\"text-align: right;\">\n",
       "      <th></th>\n",
       "      <th>Id</th>\n",
       "      <th>Name</th>\n",
       "      <th>DisplayName</th>\n",
       "      <th>IsNotebook</th>\n",
       "    </tr>\n",
       "  </thead>\n",
       "  <tbody>\n",
       "    <tr>\n",
       "      <th>0</th>\n",
       "      <td>1</td>\n",
       "      <td>R</td>\n",
       "      <td>R</td>\n",
       "      <td>False</td>\n",
       "    </tr>\n",
       "    <tr>\n",
       "      <th>1</th>\n",
       "      <td>2</td>\n",
       "      <td>Python</td>\n",
       "      <td>Python</td>\n",
       "      <td>False</td>\n",
       "    </tr>\n",
       "    <tr>\n",
       "      <th>2</th>\n",
       "      <td>5</td>\n",
       "      <td>RMarkdown</td>\n",
       "      <td>R</td>\n",
       "      <td>False</td>\n",
       "    </tr>\n",
       "    <tr>\n",
       "      <th>3</th>\n",
       "      <td>8</td>\n",
       "      <td>IPython Notebook</td>\n",
       "      <td>Python</td>\n",
       "      <td>True</td>\n",
       "    </tr>\n",
       "    <tr>\n",
       "      <th>4</th>\n",
       "      <td>9</td>\n",
       "      <td>IPython Notebook HTML</td>\n",
       "      <td>Python</td>\n",
       "      <td>False</td>\n",
       "    </tr>\n",
       "    <tr>\n",
       "      <th>5</th>\n",
       "      <td>12</td>\n",
       "      <td>R Notebook HTML</td>\n",
       "      <td>R</td>\n",
       "      <td>False</td>\n",
       "    </tr>\n",
       "    <tr>\n",
       "      <th>6</th>\n",
       "      <td>13</td>\n",
       "      <td>R Notebook</td>\n",
       "      <td>R</td>\n",
       "      <td>True</td>\n",
       "    </tr>\n",
       "    <tr>\n",
       "      <th>7</th>\n",
       "      <td>14</td>\n",
       "      <td>Python Script - Interactive</td>\n",
       "      <td>Python</td>\n",
       "      <td>True</td>\n",
       "    </tr>\n",
       "    <tr>\n",
       "      <th>8</th>\n",
       "      <td>15</td>\n",
       "      <td>R Script - Interactive</td>\n",
       "      <td>R</td>\n",
       "      <td>True</td>\n",
       "    </tr>\n",
       "    <tr>\n",
       "      <th>9</th>\n",
       "      <td>16</td>\n",
       "      <td>RMarkdown - Interactive</td>\n",
       "      <td>R</td>\n",
       "      <td>True</td>\n",
       "    </tr>\n",
       "  </tbody>\n",
       "</table>\n",
       "</div>"
      ],
      "text/plain": [
       "   Id                         Name DisplayName  IsNotebook\n",
       "0   1                            R           R       False\n",
       "1   2                       Python      Python       False\n",
       "2   5                    RMarkdown           R       False\n",
       "3   8             IPython Notebook      Python        True\n",
       "4   9        IPython Notebook HTML      Python       False\n",
       "5  12              R Notebook HTML           R       False\n",
       "6  13                   R Notebook           R        True\n",
       "7  14  Python Script - Interactive      Python        True\n",
       "8  15       R Script - Interactive           R        True\n",
       "9  16      RMarkdown - Interactive           R        True"
      ]
     },
     "execution_count": 6,
     "metadata": {},
     "output_type": "execute_result"
    }
   ],
   "source": [
    "kernelLanguages"
   ]
  },
  {
   "cell_type": "markdown",
   "metadata": {},
   "source": [
    "I need to focus on Python kernels, so I filter out the table accordingly."
   ]
  },
  {
   "cell_type": "code",
   "execution_count": 7,
   "metadata": {},
   "outputs": [
    {
     "data": {
      "text/html": [
       "<div>\n",
       "<style scoped>\n",
       "    .dataframe tbody tr th:only-of-type {\n",
       "        vertical-align: middle;\n",
       "    }\n",
       "\n",
       "    .dataframe tbody tr th {\n",
       "        vertical-align: top;\n",
       "    }\n",
       "\n",
       "    .dataframe thead th {\n",
       "        text-align: right;\n",
       "    }\n",
       "</style>\n",
       "<table border=\"1\" class=\"dataframe\">\n",
       "  <thead>\n",
       "    <tr style=\"text-align: right;\">\n",
       "      <th></th>\n",
       "      <th>Id</th>\n",
       "      <th>Name</th>\n",
       "      <th>DisplayName</th>\n",
       "      <th>IsNotebook</th>\n",
       "    </tr>\n",
       "  </thead>\n",
       "  <tbody>\n",
       "    <tr>\n",
       "      <th>1</th>\n",
       "      <td>2</td>\n",
       "      <td>Python</td>\n",
       "      <td>Python</td>\n",
       "      <td>False</td>\n",
       "    </tr>\n",
       "    <tr>\n",
       "      <th>3</th>\n",
       "      <td>8</td>\n",
       "      <td>IPython Notebook</td>\n",
       "      <td>Python</td>\n",
       "      <td>True</td>\n",
       "    </tr>\n",
       "    <tr>\n",
       "      <th>4</th>\n",
       "      <td>9</td>\n",
       "      <td>IPython Notebook HTML</td>\n",
       "      <td>Python</td>\n",
       "      <td>False</td>\n",
       "    </tr>\n",
       "    <tr>\n",
       "      <th>7</th>\n",
       "      <td>14</td>\n",
       "      <td>Python Script - Interactive</td>\n",
       "      <td>Python</td>\n",
       "      <td>True</td>\n",
       "    </tr>\n",
       "  </tbody>\n",
       "</table>\n",
       "</div>"
      ],
      "text/plain": [
       "   Id                         Name DisplayName  IsNotebook\n",
       "1   2                       Python      Python       False\n",
       "3   8             IPython Notebook      Python        True\n",
       "4   9        IPython Notebook HTML      Python       False\n",
       "7  14  Python Script - Interactive      Python        True"
      ]
     },
     "execution_count": 7,
     "metadata": {},
     "output_type": "execute_result"
    }
   ],
   "source": [
    "kernelLanguages[kernelLanguages['DisplayName']=='Python']"
   ]
  },
  {
   "cell_type": "markdown",
   "metadata": {},
   "source": [
    "From now on, I will refer to this table with the name: *languages table*."
   ]
  },
  {
   "cell_type": "markdown",
   "metadata": {},
   "source": [
    "### The kernel/kernel version author problem"
   ]
  },
  {
   "cell_type": "markdown",
   "metadata": {},
   "source": [
    "I need to manually inspect a couple of samples from each python entry in the table; therefore I need to get the link to the kernel on kaggle.com. The link is formed with the *author's username* and the kernel's *current slug*.\n",
    "\n",
    "But what's the correct meaning of kernel *\"author\"*?\n",
    "Is there any difference between a kernel's author and one of its versions author?\n"
   ]
  },
  {
   "cell_type": "code",
   "execution_count": 8,
   "metadata": {},
   "outputs": [
    {
     "data": {
      "text/plain": [
       "1069"
      ]
     },
     "execution_count": 8,
     "metadata": {},
     "output_type": "execute_result"
    }
   ],
   "source": [
    "kernels_currentVersion[\n",
    "    kernels_currentVersion['AuthorUserId'] != kernels_currentVersion['AuthorUserId_currentVersion']].shape[0]"
   ]
  },
  {
   "cell_type": "markdown",
   "metadata": {},
   "source": [
    "Yes, evidently there is. At least for 822 rows.\n",
    "So I guess that I should use the author ID from the KernelVersions table: he must be the actual author of the notebook that I will download via the API and assess.\n",
    "\n",
    "I further join the dataframe resulting from the previous join operations with `Users.csv`."
   ]
  },
  {
   "cell_type": "code",
   "execution_count": 9,
   "metadata": {},
   "outputs": [
    {
     "name": "stdout",
     "output_type": "stream",
     "text": [
      "Number of kernels with language and author info: 315,077\n",
      "Number of kernels removed from the previous cleaning step: 3,778\n",
      "Percentage over the cleaned set: 98.82%\n",
      "Percentage over the original set: 87.07%\n"
     ]
    }
   ],
   "source": [
    "kernel_currentVersion_language_author = pd.merge(\n",
    "    kernel_currentVersion_language, users,\n",
    "    left_on='AuthorUserId_currentVersion', right_on='Id',\n",
    "    suffixes=('', '_author'))\n",
    "\n",
    "summarize_cleaning_step('kernels with language and author info', kernel_currentVersion_language_author, kernel_currentVersion_language, kernels)"
   ]
  },
  {
   "cell_type": "markdown",
   "metadata": {},
   "source": [
    "Now I am able to produce lists of URLs for kernels belonging to each language in the *languages table*.\n",
    "I will use the link to visit the kaggle.com pages and understand with a manual inspection the nature of the notebooks tagged with the 4 language names under assessment."
   ]
  },
  {
   "cell_type": "code",
   "execution_count": 10,
   "metadata": {},
   "outputs": [
    {
     "name": "stdout",
     "output_type": "stream",
     "text": [
      "Number of kernels of type \"Python\": 21,259\n",
      "Number of kernels of type \"IPython Notebook\": 49,498\n",
      "Number of kernels of type \"IPython Notebook HTML\": 212,331\n",
      "Number of kernels of type \"Python Script - Interactive\": 15\n"
     ]
    }
   ],
   "source": [
    "#  Python\n",
    "python = kernel_currentVersion_language_author[\n",
    "    kernel_currentVersion_language_author['Name'] == 'Python'][['UserName', 'CurrentUrlSlug', 'CreationDate_currentVersion']]\n",
    "\n",
    "# IPython Notebook\n",
    "ipython_notebook = kernel_currentVersion_language_author[\n",
    "    kernel_currentVersion_language_author['Name'] == 'IPython Notebook'][['UserName', 'CurrentUrlSlug', 'CreationDate_currentVersion']]\n",
    "\n",
    "# IPython Notebook HTML\n",
    "ipython_notebook_html = kernel_currentVersion_language_author[\n",
    "    kernel_currentVersion_language_author['Name'] == 'IPython Notebook HTML'][['UserName', 'CurrentUrlSlug', 'CreationDate_currentVersion']]\n",
    "\n",
    "# Python Script - Interactive\n",
    "python_script_interactive = kernel_currentVersion_language_author[\n",
    "    kernel_currentVersion_language_author['Name'] == 'Python Script - Interactive'][['UserName', 'CurrentUrlSlug', 'CreationDate_currentVersion']]\n",
    "\n",
    "python_kernels = {\n",
    "    'Python': python,\n",
    "    'IPython Notebook': ipython_notebook,\n",
    "    'IPython Notebook HTML': ipython_notebook_html,\n",
    "    'Python Script - Interactive': python_script_interactive\n",
    "}\n",
    "\n",
    "for kernel in python_kernels:\n",
    "    \n",
    "    print('Number of kernels of type \"{}\": {:,d}'.format(kernel, python_kernels[kernel].shape[0]))\n",
    "    \n",
    "    python_kernels[kernel].sort_values('CreationDate_currentVersion', ascending=False)\n",
    "    \n",
    "    python_kernels[kernel]['url'] = 'https://www.kaggle.com/' + python_kernels[kernel]['UserName'] + '/' + python_kernels[kernel]['CurrentUrlSlug']\n",
    "    python_kernels[kernel]['slug'] = python_kernels[kernel]['UserName'] + '/' + python_kernels[kernel]['CurrentUrlSlug']\n",
    "    \n",
    "    python_kernels[kernel]['url'].to_csv('notebook_output/{} - URLs.csv'.format(kernel), header=False, index=False)\n",
    "    python_kernels[kernel]['slug'].to_csv('notebook_output/{} - slugs.csv'.format(kernel), header=False, index=False)\n",
    "    "
   ]
  },
  {
   "cell_type": "markdown",
   "metadata": {},
   "source": [
    "After a manual inspection of a sample of kernels from each language category (language name in the *languages table*) I discovered what follows.\n",
    "\n",
    "- `Python` kernels are actual python scripts\n",
    "- `IPython Notebook` kernels are not available anymore (for the most part)\n",
    "- `IPython Notebook HTML` kernels are the HTML version of Jupyter Notebook files; they must have been produced using `nbconvert`; however, with the help of the Kaggle official API, it is possibile to download the source `.ipynb` notebook (without the output cells). With the help of a scraping script it might be also possible to download the source notebook with the output cells.\n",
    "- `Python Script - Interactive` kernels are just 15 and are not available anymore.\n",
    "\n",
    "`IPython Notebook` and `Python Script - Interactive` kernels might be old language tags that are not used anymore. I try to prove that by querying the `CreationDate` field from the `KernelVersions` table.\n"
   ]
  },
  {
   "cell_type": "code",
   "execution_count": 11,
   "metadata": {},
   "outputs": [
    {
     "data": {
      "text/plain": [
       "count                   49498\n",
       "unique                  49406\n",
       "top       2017-01-10 18:20:52\n",
       "freq                        3\n",
       "first     2015-08-27 04:17:45\n",
       "last      2018-04-18 17:30:49\n",
       "Name: CreationDate_currentVersion, dtype: object"
      ]
     },
     "execution_count": 11,
     "metadata": {},
     "output_type": "execute_result"
    }
   ],
   "source": [
    "ipython_notebook['CreationDate_currentVersion'].describe()"
   ]
  },
  {
   "cell_type": "code",
   "execution_count": 12,
   "metadata": {},
   "outputs": [
    {
     "data": {
      "text/plain": [
       "count                      15\n",
       "unique                     15\n",
       "top       2018-02-25 11:22:21\n",
       "freq                        1\n",
       "first     2017-10-23 14:56:15\n",
       "last      2018-04-13 02:14:54\n",
       "Name: CreationDate_currentVersion, dtype: object"
      ]
     },
     "execution_count": 12,
     "metadata": {},
     "output_type": "execute_result"
    }
   ],
   "source": [
    "python_script_interactive['CreationDate_currentVersion'].describe()"
   ]
  },
  {
   "cell_type": "markdown",
   "metadata": {},
   "source": [
    "In both cases, kenrels of these kinds seem to have been dismissed during April 2018."
   ]
  },
  {
   "cell_type": "code",
   "execution_count": 13,
   "metadata": {},
   "outputs": [
    {
     "data": {
      "text/plain": [
       "count                   21259\n",
       "unique                  21257\n",
       "top       2017-04-05 17:38:52\n",
       "freq                        2\n",
       "first     2015-04-03 17:00:18\n",
       "last      2020-06-18 19:13:17\n",
       "Name: CreationDate_currentVersion, dtype: object"
      ]
     },
     "execution_count": 13,
     "metadata": {},
     "output_type": "execute_result"
    }
   ],
   "source": [
    "python['CreationDate_currentVersion'].describe()"
   ]
  },
  {
   "cell_type": "code",
   "execution_count": 14,
   "metadata": {},
   "outputs": [
    {
     "data": {
      "text/plain": [
       "count                  212331\n",
       "unique                 211901\n",
       "top       2018-10-11 20:06:49\n",
       "freq                        8\n",
       "first     2015-09-15 22:01:57\n",
       "last      2020-06-19 00:02:19\n",
       "Name: CreationDate_currentVersion, dtype: object"
      ]
     },
     "execution_count": 14,
     "metadata": {},
     "output_type": "execute_result"
    }
   ],
   "source": [
    "ipython_notebook_html['CreationDate_currentVersion'].describe()"
   ]
  },
  {
   "cell_type": "markdown",
   "metadata": {},
   "source": [
    "On the contrary, the other two types of kernel seem to span the whole period of time covered by the dataset."
   ]
  },
  {
   "cell_type": "code",
   "execution_count": 15,
   "metadata": {},
   "outputs": [
    {
     "name": "stdout",
     "output_type": "stream",
     "text": [
      "Number of kernels of type \"R\": 10,979\n",
      "Number of kernels of type \"RMarkdown\": 5,349\n",
      "Number of kernels of type \"R Notebook HTML\": 12,691\n",
      "Number of kernels of type \"R Notebook\": 2,950\n",
      "Number of kernels of type \"R Script - Interactive\": 4\n",
      "Number of kernels of type \"RMarkdown - Interactive\": 1\n"
     ]
    }
   ],
   "source": [
    "# R\n",
    "r = kernel_currentVersion_language_author[\n",
    "    kernel_currentVersion_language_author['Name'] == 'R'][['UserName', 'CurrentUrlSlug', 'CreationDate_currentVersion']]\n",
    "\n",
    "# RMarkdown\n",
    "rmarkdown = kernel_currentVersion_language_author[\n",
    "    kernel_currentVersion_language_author['Name'] == 'RMarkdown'][['UserName', 'CurrentUrlSlug', 'CreationDate_currentVersion']]\n",
    "\n",
    "# R Notebook HTML\n",
    "r_notebookHTML = kernel_currentVersion_language_author[\n",
    "    kernel_currentVersion_language_author['Name'] == 'R Notebook HTML'][['UserName', 'CurrentUrlSlug', 'CreationDate_currentVersion']]\n",
    "\n",
    "# R Notebook\n",
    "r_notebook = kernel_currentVersion_language_author[\n",
    "    kernel_currentVersion_language_author['Name'] == 'R Notebook'][['UserName', 'CurrentUrlSlug', 'CreationDate_currentVersion']]\n",
    "\n",
    "# R Script - Interactive\n",
    "r_script = kernel_currentVersion_language_author[\n",
    "    kernel_currentVersion_language_author['Name'] == 'R Script - Interactive'][['UserName', 'CurrentUrlSlug', 'CreationDate_currentVersion']]\n",
    "\n",
    "# RMarkdown - Interactive\n",
    "r_markdown_interactive = kernel_currentVersion_language_author[\n",
    "    kernel_currentVersion_language_author['Name'] == 'RMarkdown - Interactive'][['UserName', 'CurrentUrlSlug', 'CreationDate_currentVersion']]\n",
    "\n",
    "r_kernels = {\n",
    "    'R': r,\n",
    "    'RMarkdown': rmarkdown,\n",
    "    'R Notebook HTML': r_notebookHTML,\n",
    "    'R Notebook': r_notebook,\n",
    "    'R Script - Interactive': r_script,\n",
    "    'RMarkdown - Interactive': r_markdown_interactive\n",
    "}\n",
    "\n",
    "for kernel in r_kernels:\n",
    "    \n",
    "    print('Number of kernels of type \"{}\": {:,d}'.format(kernel, r_kernels[kernel].shape[0]))\n",
    "    \n",
    "    r_kernels[kernel].sort_values('CreationDate_currentVersion', ascending=False)\n",
    "    \n",
    "    r_kernels[kernel]['url'] = 'https://www.kaggle.com/' + r_kernels[kernel]['UserName'] + '/' + r_kernels[kernel]['CurrentUrlSlug']\n",
    "    r_kernels[kernel]['slug'] = r_kernels[kernel]['UserName'] + '/' + r_kernels[kernel]['CurrentUrlSlug']\n",
    "    \n",
    "    r_kernels[kernel]['url'].to_csv('notebook_output/{} - URLs.csv'.format(kernel), header=False, index=False)\n",
    "    r_kernels[kernel]['slug'].to_csv('notebook_output/{} - slugs.csv'.format(kernel), header=False, index=False)"
   ]
  },
  {
   "cell_type": "markdown",
   "metadata": {},
   "source": [
    "After a manual inspection of a sample of kernels from each R language category, I discovered what follows.\n",
    "\n",
    "- `R` kernels are actual R scripts;\n",
    "- `RMarkdown` kernels are RMarkdown files (with extention `.Rmd`);\n",
    "- `R Notebook HTML` kernels are the HTML version of Jupyter Notebook files; they must have been produced using `nbconvert`; however, with the help of the Kaggle official API, it is possibile to download the source `.ipynb` notebook (without the output cells). With the help of a scraping script it might be also possible to download the source notebook with the output cells.\n",
    "- `R Notebook` kernels are in the `.xrnb` format.\n",
    "- `R Script - Interactive` are just a few (4) and they are in the `.xrnb` format.\n",
    "- `RMarkdown - Interactive` is just one file in the `.xrnb` format. \n",
    "\n",
    "I need to work with Jupyter Notebook files (with extension `.ipynb`), so the only R language category I'm interested in is `R Notebook HTML`."
   ]
  },
  {
   "cell_type": "code",
   "execution_count": 16,
   "metadata": {},
   "outputs": [
    {
     "data": {
      "text/plain": [
       "count                   12691\n",
       "unique                  12685\n",
       "top       2017-12-18 02:31:47\n",
       "freq                        3\n",
       "first     2015-11-06 03:56:10\n",
       "last      2020-06-18 23:26:51\n",
       "Name: CreationDate_currentVersion, dtype: object"
      ]
     },
     "execution_count": 16,
     "metadata": {},
     "output_type": "execute_result"
    }
   ],
   "source": [
    "r_notebookHTML['CreationDate_currentVersion'].describe()"
   ]
  },
  {
   "cell_type": "markdown",
   "metadata": {},
   "source": [
    "I am interested in the analysis of Jupyter Notebooks, therefore I will analyse only kernels marked as `IPython Notebook HTML` and `R Notebook HTML`.\n",
    "\n",
    "For now I limit the analysis to Python notebooks."
   ]
  },
  {
   "cell_type": "code",
   "execution_count": 17,
   "metadata": {},
   "outputs": [
    {
     "name": "stdout",
     "output_type": "stream",
     "text": [
      "Number of Python Jupyter Notebook kernels: 212,331\n",
      "Number of kernels removed from the previous cleaning step: 102,746\n",
      "Percentage over the cleaned set: 67.39%\n",
      "Percentage over the original set: 58.68%\n"
     ]
    }
   ],
   "source": [
    "# df = kernel_currentVersion_language_author[\n",
    "#     (kernel_currentVersion_language_author['Name'] == 'IPython Notebook HTML') | (kernel_currentVersion_language_author['Name'] == 'R Notebook HTML')\n",
    "# ]\n",
    "\n",
    "df = kernel_currentVersion_language_author[kernel_currentVersion_language_author['Name'] == 'IPython Notebook HTML']\n",
    "\n",
    "# summarize_cleaning_step('Python and R Jupyter Notebook kernels', df, kernel_currentVersion_language_author, kernels)\n",
    "summarize_cleaning_step('Python Jupyter Notebook kernels', df, kernel_currentVersion_language_author, kernels)"
   ]
  },
  {
   "cell_type": "markdown",
   "metadata": {},
   "source": [
    "## User achievements: filtering notebooks from non expert users"
   ]
  },
  {
   "cell_type": "code",
   "execution_count": 18,
   "metadata": {},
   "outputs": [
    {
     "data": {
      "text/plain": [
       "Discussion      3570705\n",
       "Competitions    3570705\n",
       "Scripts         3570705\n",
       "Name: AchievementType, dtype: int64"
      ]
     },
     "execution_count": 18,
     "metadata": {},
     "output_type": "execute_result"
    }
   ],
   "source": [
    "userAchievements.AchievementType.value_counts()"
   ]
  },
  {
   "cell_type": "code",
   "execution_count": 19,
   "metadata": {},
   "outputs": [
    {
     "data": {
      "text/plain": [
       "3    3570705\n",
       "Name: Id, dtype: int64"
      ]
     },
     "execution_count": 19,
     "metadata": {},
     "output_type": "execute_result"
    }
   ],
   "source": [
    "userAchievements.groupby('UserId')['Id'].count().value_counts()"
   ]
  },
  {
   "cell_type": "markdown",
   "metadata": {},
   "source": [
    "Each user is associated with 3 rows in `UserAchievements.csv`. Each row describe the achievement of the user in one of the four *categories of expertise* mentioned in the [Kaggle Documentation](https://www.kaggle.com/progression).\n",
    "\n",
    "Of the four categories of expertise (`Competitions`, `Notebooks`, `Datasets`, and `Discussion`), only four are covered by the available data: rows for the `Datasets` category are missing in meta-kaggle. The category of expertise is defined by the field `AchievementType`."
   ]
  },
  {
   "cell_type": "code",
   "execution_count": 20,
   "metadata": {},
   "outputs": [
    {
     "data": {
      "image/png": "[encoded data removed]",
      "text/plain": [
       "<Figure size 1152x360 with 2 Axes>"
      ]
     },
     "metadata": {
      "needs_background": "light"
     },
     "output_type": "display_data"
    }
   ],
   "source": [
    "tiers = userAchievements.Tier.value_counts()\n",
    "tiers_labels = [\n",
    "    'Novice',\n",
    "    'Contributor',\n",
    "    'Expert',\n",
    "    'Master',\n",
    "    'Grandmaster'\n",
    "]\n",
    "\n",
    "plt.subplot(121)\n",
    "sns.barplot(tiers_labels, tiers.values)\n",
    "plt.title('Tiers Frequency Distribution', fontsize=13, pad=20)\n",
    "plt.xlabel('Tier names', labelpad=20)\n",
    "plt.ylabel('Frequency', labelpad=15)\n",
    "\n",
    "\n",
    "plt.subplot(122)\n",
    "sns.barplot(tiers_labels, tiers.values, log=True)\n",
    "plt.title('Tiers Frequency Distribution (LOG SCALE)', fontsize=13, pad=20)\n",
    "plt.xlabel('Tier names', labelpad=20)\n",
    "plt.ylabel('Frequency', labelpad=15)\n",
    "\n",
    "plt.gcf().set_size_inches(16,5)"
   ]
  },
  {
   "cell_type": "code",
   "execution_count": 21,
   "metadata": {},
   "outputs": [
    {
     "data": {
      "text/html": [
       "<div>\n",
       "<style scoped>\n",
       "    .dataframe tbody tr th:only-of-type {\n",
       "        vertical-align: middle;\n",
       "    }\n",
       "\n",
       "    .dataframe tbody tr th {\n",
       "        vertical-align: top;\n",
       "    }\n",
       "\n",
       "    .dataframe thead th {\n",
       "        text-align: right;\n",
       "    }\n",
       "</style>\n",
       "<table border=\"1\" class=\"dataframe\">\n",
       "  <thead>\n",
       "    <tr style=\"text-align: right;\">\n",
       "      <th></th>\n",
       "      <th>Scripts</th>\n",
       "      <th>Competitions</th>\n",
       "      <th>Discussions</th>\n",
       "      <th>TOTAL frequency</th>\n",
       "    </tr>\n",
       "    <tr>\n",
       "      <th>Tier name</th>\n",
       "      <th></th>\n",
       "      <th></th>\n",
       "      <th></th>\n",
       "      <th></th>\n",
       "    </tr>\n",
       "  </thead>\n",
       "  <tbody>\n",
       "    <tr>\n",
       "      <th>Novice</th>\n",
       "      <td>3485959</td>\n",
       "      <td>3485959</td>\n",
       "      <td>3485959</td>\n",
       "      <td>10457877</td>\n",
       "    </tr>\n",
       "    <tr>\n",
       "      <th>Contributor</th>\n",
       "      <td>83836</td>\n",
       "      <td>77610</td>\n",
       "      <td>83825</td>\n",
       "      <td>245271</td>\n",
       "    </tr>\n",
       "    <tr>\n",
       "      <th>Expert</th>\n",
       "      <td>785</td>\n",
       "      <td>5528</td>\n",
       "      <td>844</td>\n",
       "      <td>7157</td>\n",
       "    </tr>\n",
       "    <tr>\n",
       "      <th>Master</th>\n",
       "      <td>100</td>\n",
       "      <td>1423</td>\n",
       "      <td>54</td>\n",
       "      <td>1577</td>\n",
       "    </tr>\n",
       "    <tr>\n",
       "      <th>Grandmaster</th>\n",
       "      <td>25</td>\n",
       "      <td>185</td>\n",
       "      <td>23</td>\n",
       "      <td>233</td>\n",
       "    </tr>\n",
       "  </tbody>\n",
       "</table>\n",
       "</div>"
      ],
      "text/plain": [
       "             Scripts  Competitions  Discussions  TOTAL frequency\n",
       "Tier name                                                       \n",
       "Novice       3485959       3485959      3485959         10457877\n",
       "Contributor    83836         77610        83825           245271\n",
       "Expert           785          5528          844             7157\n",
       "Master           100          1423           54             1577\n",
       "Grandmaster       25           185           23              233"
      ]
     },
     "execution_count": 21,
     "metadata": {},
     "output_type": "execute_result"
    }
   ],
   "source": [
    "tiers_scripts = userAchievements.loc[userAchievements['AchievementType'] == 'Scripts', ['Tier']].Tier.value_counts()\n",
    "tiers_competitions = userAchievements.loc[userAchievements['AchievementType'] == 'Competitions', ['Tier']].Tier.value_counts()\n",
    "tiers_discussions = userAchievements.loc[userAchievements['AchievementType'] == 'Discussion', ['Tier']].Tier.value_counts()\n",
    "\n",
    "tiers_summary_df_map = {\n",
    "    'Tier name':tiers_labels,\n",
    "    'Scripts': tiers_scripts,\n",
    "    'Competitions': tiers_competitions,\n",
    "    'Discussions': tiers_discussions,\n",
    "    'TOTAL frequency': tiers\n",
    "}\n",
    "tiers_summary_df = pd.DataFrame(tiers_summary_df_map)\n",
    "tiers_summary_df.set_index('Tier name')"
   ]
  },
  {
   "cell_type": "markdown",
   "metadata": {},
   "source": [
    "Notebooks to be analised must be made by users that are at least in the `Expert` tier in at least one of the categories of expertise. I further filter out the notebooks collected so far according to this criterion."
   ]
  },
  {
   "cell_type": "code",
   "execution_count": 22,
   "metadata": {},
   "outputs": [
    {
     "data": {
      "text/plain": [
       "7881"
      ]
     },
     "execution_count": 22,
     "metadata": {},
     "output_type": "execute_result"
    }
   ],
   "source": [
    "expert_achievements = userAchievements[userAchievements['Tier']>1]\n",
    "experts = expert_achievements.UserId.unique()\n",
    "experts.shape[0]"
   ]
  },
  {
   "cell_type": "markdown",
   "metadata": {},
   "source": [
    "There are 7604 users that are in the `Expert`, `Master` or `Grandmaster` tier in one of the three categories of expertise: `Competition`, `Notebook`, `Discussion`.\n",
    "\n",
    "I now filter notebooks by these knoledgeable authors."
   ]
  },
  {
   "cell_type": "code",
   "execution_count": 23,
   "metadata": {},
   "outputs": [
    {
     "name": "stdout",
     "output_type": "stream",
     "text": [
      "Number of Jupyter Notebooks from experts: 57,519\n",
      "Number of kernels removed from the previous cleaning step: 154,812\n",
      "Percentage over the cleaned set: 27.09%\n",
      "Percentage over the original set: 15.90%\n"
     ]
    }
   ],
   "source": [
    "notebooks_by_experts = df[df['AuthorUserId_currentVersion'].isin(experts)]\n",
    "notebooks_by_beginners = df[~df['AuthorUserId_currentVersion'].isin(experts)]\n",
    "\n",
    "summarize_cleaning_step('Jupyter Notebooks from experts', notebooks_by_experts, df, kernels)"
   ]
  },
  {
   "cell_type": "code",
   "execution_count": 24,
   "metadata": {},
   "outputs": [
    {
     "name": "stdout",
     "output_type": "stream",
     "text": [
      "# of notebooks to be partitioned: 212,331\n",
      "# of notebooks by esperts: 57,519\n",
      "# of notebooks by beginners: 154,812\n"
     ]
    }
   ],
   "source": [
    "print(\"# of notebooks to be partitioned: {:,}\".format(df.shape[0]))\n",
    "print(\"# of notebooks by esperts: {:,}\".format(notebooks_by_experts.shape[0]))\n",
    "print(\"# of notebooks by beginners: {:,}\".format(notebooks_by_beginners.shape[0]))"
   ]
  },
  {
   "cell_type": "markdown",
   "metadata": {},
   "source": [
    "### Visualization of the filtering steps"
   ]
  },
  {
   "cell_type": "code",
   "execution_count": 25,
   "metadata": {},
   "outputs": [
    {
     "data": {
      "image/png": "[encoded data removed]",
      "text/plain": [
       "<Figure size 864x360 with 1 Axes>"
      ]
     },
     "metadata": {
      "needs_background": "light"
     },
     "output_type": "display_data"
    }
   ],
   "source": [
    "steps = {\n",
    "    '5. Python Notebooks by experts': notebooks_by_experts.shape[0],\n",
    "    '4. Python Jupyter Notebooks': df.shape[0],\n",
    "    '3. Kernels with language and author info': kernel_currentVersion_language_author.shape[0],\n",
    "    '2. Kernels with language info': kernel_currentVersion_language.shape[0],\n",
    "    '1. Kernels with current kernel version info': kernels_currentVersion.shape[0],\n",
    "    '0. Items in `Kernels.csv`': kernels.shape[0]\n",
    "}\n",
    "\n",
    "plt.barh(y=list(steps.keys()), width=list(steps.values()))\n",
    "for index, value in enumerate(list(steps.values())):\n",
    "    plt.text(value, index, '{:,d}'.format(value))\n",
    "    \n",
    "plt.title(\"Number of kernels after each cleaning step\", fontsize=18, pad=20)\n",
    "plt.xlabel(\"Number of kernels available for the analysis\", fontsize=14, labelpad=25)\n",
    "plt.ylabel(\"Cleaning step\", fontsize=14, labelpad=20)\n",
    "    \n",
    "plt.gcf().set_size_inches(12,5)"
   ]
  },
  {
   "cell_type": "markdown",
   "metadata": {},
   "source": [
    "## Further minor filtering operations"
   ]
  },
  {
   "cell_type": "markdown",
   "metadata": {},
   "source": [
    "### CurrentUrlSlug"
   ]
  },
  {
   "cell_type": "markdown",
   "metadata": {},
   "source": [
    "To download the notebooks via the API I need the `CurrentUrlSlug`.\n",
    "I make sure that every kernel in the dataset has a `CurrentUrlSlug`."
   ]
  },
  {
   "cell_type": "code",
   "execution_count": 26,
   "metadata": {},
   "outputs": [
    {
     "data": {
      "text/plain": [
       "0"
      ]
     },
     "execution_count": 26,
     "metadata": {},
     "output_type": "execute_result"
    }
   ],
   "source": [
    "notebooks_by_experts[notebooks_by_experts['CurrentUrlSlug'].isna()].shape[0]"
   ]
  },
  {
   "cell_type": "markdown",
   "metadata": {},
   "source": [
    "Every notebook in the dataset has a `CurrentUrlSlug`."
   ]
  },
  {
   "cell_type": "markdown",
   "metadata": {},
   "source": [
    "### IsProjectLanguageTemplate\n",
    "\n",
    "After a manual inspection, I realized that kernels marked with the flag `IsProjectLanguageTemplate` are not to be included in the analysis. They are, as the name of the flag suggests, just templates, maybe provided to participants in the beginning of challenges."
   ]
  },
  {
   "cell_type": "code",
   "execution_count": 27,
   "metadata": {},
   "outputs": [
    {
     "data": {
      "text/plain": [
       "0"
      ]
     },
     "execution_count": 27,
     "metadata": {},
     "output_type": "execute_result"
    }
   ],
   "source": [
    "notebooks_by_experts[notebooks_by_experts['IsProjectLanguageTemplate']].shape[0]"
   ]
  },
  {
   "cell_type": "markdown",
   "metadata": {},
   "source": [
    "After the filtering operations above, no *\"project language template\"* has survived, therefore the cleaning operations are completed."
   ]
  },
  {
   "cell_type": "markdown",
   "metadata": {},
   "source": [
    "## Output filtered URL/slug list"
   ]
  },
  {
   "cell_type": "code",
   "execution_count": 28,
   "metadata": {},
   "outputs": [
    {
     "data": {
      "text/plain": [
       "Index(['Id', 'AuthorUserId', 'CurrentKernelVersionId',\n",
       "       'ForkParentKernelVersionId', 'ForumTopicId', 'FirstKernelVersionId',\n",
       "       'CreationDate', 'EvaluationDate', 'MadePublicDate',\n",
       "       'IsProjectLanguageTemplate', 'CurrentUrlSlug', 'Medal',\n",
       "       'MedalAwardDate', 'TotalViews', 'TotalComments', 'TotalVotes',\n",
       "       'Id_currentVersion', 'ScriptId', 'ScriptLanguageId',\n",
       "       'AuthorUserId_currentVersion', 'CreationDate_currentVersion',\n",
       "       'VersionNumber', 'TotalLines', 'TotalVotes_currentVersion',\n",
       "       'Id_language', 'Name', 'DisplayName', 'IsNotebook', 'Id_author',\n",
       "       'UserName', 'DisplayName_author', 'RegisterDate', 'PerformanceTier'],\n",
       "      dtype='object')"
      ]
     },
     "execution_count": 28,
     "metadata": {},
     "output_type": "execute_result"
    }
   ],
   "source": [
    "notebooks_by_experts.columns"
   ]
  },
  {
   "cell_type": "code",
   "execution_count": 29,
   "metadata": {},
   "outputs": [
    {
     "name": "stderr",
     "output_type": "stream",
     "text": [
      "/usr/local/lib/python3.7/site-packages/ipykernel_launcher.py:1: SettingWithCopyWarning: \n",
      "A value is trying to be set on a copy of a slice from a DataFrame.\n",
      "Try using .loc[row_indexer,col_indexer] = value instead\n",
      "\n",
      "See the caveats in the documentation: http://pandas.pydata.org/pandas-docs/stable/indexing.html#indexing-view-versus-copy\n",
      "  \"\"\"Entry point for launching an IPython kernel.\n",
      "/usr/local/lib/python3.7/site-packages/ipykernel_launcher.py:2: SettingWithCopyWarning: \n",
      "A value is trying to be set on a copy of a slice from a DataFrame.\n",
      "Try using .loc[row_indexer,col_indexer] = value instead\n",
      "\n",
      "See the caveats in the documentation: http://pandas.pydata.org/pandas-docs/stable/indexing.html#indexing-view-versus-copy\n",
      "  \n",
      "/usr/local/lib/python3.7/site-packages/ipykernel_launcher.py:3: SettingWithCopyWarning: \n",
      "A value is trying to be set on a copy of a slice from a DataFrame.\n",
      "Try using .loc[row_indexer,col_indexer] = value instead\n",
      "\n",
      "See the caveats in the documentation: http://pandas.pydata.org/pandas-docs/stable/indexing.html#indexing-view-versus-copy\n",
      "  This is separate from the ipykernel package so we can avoid doing imports until\n",
      "/usr/local/lib/python3.7/site-packages/ipykernel_launcher.py:5: SettingWithCopyWarning: \n",
      "A value is trying to be set on a copy of a slice from a DataFrame.\n",
      "Try using .loc[row_indexer,col_indexer] = value instead\n",
      "\n",
      "See the caveats in the documentation: http://pandas.pydata.org/pandas-docs/stable/indexing.html#indexing-view-versus-copy\n",
      "  \"\"\"\n",
      "/usr/local/lib/python3.7/site-packages/ipykernel_launcher.py:6: SettingWithCopyWarning: \n",
      "A value is trying to be set on a copy of a slice from a DataFrame.\n",
      "Try using .loc[row_indexer,col_indexer] = value instead\n",
      "\n",
      "See the caveats in the documentation: http://pandas.pydata.org/pandas-docs/stable/indexing.html#indexing-view-versus-copy\n",
      "  \n",
      "/usr/local/lib/python3.7/site-packages/ipykernel_launcher.py:7: SettingWithCopyWarning: \n",
      "A value is trying to be set on a copy of a slice from a DataFrame.\n",
      "Try using .loc[row_indexer,col_indexer] = value instead\n",
      "\n",
      "See the caveats in the documentation: http://pandas.pydata.org/pandas-docs/stable/indexing.html#indexing-view-versus-copy\n",
      "  import sys\n"
     ]
    }
   ],
   "source": [
    "notebooks_by_experts['url'] = 'https://www.kaggle.com/' + notebooks_by_experts['UserName'] + '/' + notebooks_by_experts['CurrentUrlSlug']\n",
    "notebooks_by_experts['full_download_url'] = 'https://www.kaggle.com/kernels/scriptcontent/' + notebooks_by_experts['CurrentKernelVersionId'].astype('int64').astype('str') + '/download'\n",
    "notebooks_by_experts['slug'] = notebooks_by_experts['UserName'] + '/' + notebooks_by_experts['CurrentUrlSlug']\n",
    "\n",
    "notebooks_by_beginners['url'] = 'https://www.kaggle.com/' + notebooks_by_beginners['UserName'] + '/' + notebooks_by_beginners['CurrentUrlSlug']\n",
    "notebooks_by_beginners['full_download_url'] = 'https://www.kaggle.com/kernels/scriptcontent/' + notebooks_by_beginners['CurrentKernelVersionId'].astype('int64').astype('str') + '/download'\n",
    "notebooks_by_beginners['slug'] = notebooks_by_beginners['UserName'] + '/' + notebooks_by_beginners['CurrentUrlSlug']"
   ]
  },
  {
   "cell_type": "markdown",
   "metadata": {},
   "source": [
    "### URLs"
   ]
  },
  {
   "cell_type": "code",
   "execution_count": 30,
   "metadata": {},
   "outputs": [],
   "source": [
    "notebooks_by_experts['url'].to_csv('notebook_output/Notebooks by experts - URLs.csv', header=False, index=False)\n",
    "notebooks_by_beginners['url'].to_csv('notebook_output/Notebooks by beginners - URLs.csv', header=False, index=False)"
   ]
  },
  {
   "cell_type": "markdown",
   "metadata": {},
   "source": [
    "### Slugs"
   ]
  },
  {
   "cell_type": "code",
   "execution_count": 31,
   "metadata": {},
   "outputs": [],
   "source": [
    "notebooks_by_experts['slug'].to_csv('notebook_output/Notebooks by experts - slugs.csv', header=False, index=False)\n",
    "notebooks_by_beginners['slug'].to_csv('notebook_output/Notebooks by beginners - slugs.csv', header=False, index=False)"
   ]
  },
  {
   "cell_type": "markdown",
   "metadata": {},
   "source": [
    "### Full download URLs"
   ]
  },
  {
   "cell_type": "code",
   "execution_count": 32,
   "metadata": {},
   "outputs": [],
   "source": [
    "notebooks_by_experts.to_csv('notebook_output/Notebooks by experts - full download URLs.csv', columns=['slug', 'full_download_url'], header=['slug', 'url'], index=False)\n",
    "notebooks_by_beginners.to_csv('notebook_output/Notebooks by beginners - full download URLs.csv', columns=['slug', 'full_download_url'], header=['slug', 'url'], index=False)"
   ]
  },
  {
   "cell_type": "markdown",
   "metadata": {},
   "source": [
    "# Some EDA"
   ]
  },
  {
   "cell_type": "code",
   "execution_count": 33,
   "metadata": {},
   "outputs": [
    {
     "data": {
      "text/plain": [
       "count                   57519\n",
       "unique                  57403\n",
       "top       2018-10-11 20:06:49\n",
       "freq                        8\n",
       "first     2015-09-15 22:01:57\n",
       "last      2020-06-18 23:57:11\n",
       "Name: CreationDate_currentVersion, dtype: object"
      ]
     },
     "execution_count": 33,
     "metadata": {},
     "output_type": "execute_result"
    }
   ],
   "source": [
    "notebooks_by_experts.CreationDate_currentVersion.describe()"
   ]
  }
 ],
 "metadata": {
  "kernelspec": {
   "display_name": "Python 3",
   "language": "python",
   "name": "python3"
  },
  "language_info": {
   "codemirror_mode": {
    "name": "ipython",
    "version": 3
   },
   "file_extension": ".py",
   "mimetype": "text/x-python",
   "name": "python",
   "nbconvert_exporter": "python",
   "pygments_lexer": "ipython3",
   "version": "3.7.6"
  }
 },
 "nbformat": 4,
 "nbformat_minor": 4
}
